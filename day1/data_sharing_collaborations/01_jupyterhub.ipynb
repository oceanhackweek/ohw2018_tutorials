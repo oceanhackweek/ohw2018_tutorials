{
 "cells": [
  {
   "cell_type": "markdown",
   "metadata": {
    "slideshow": {
     "slide_type": "-"
    }
   },
   "source": [
    "# Introduction to Jupyter/Jupyterhub"
   ]
  },
  {
   "cell_type": "markdown",
   "metadata": {
    "slideshow": {
     "slide_type": "-"
    }
   },
   "source": [
    "### What are Jupyter Notebooks?\n",
    "- Application running inside the browser\n",
    "- **Executable documents** which can be run to perform data analysis\n",
    "- Provides a **standardized** environment\n",
    "- What goes into Jupyter Notebooks? Code, text, images\n",
    "- An interface for developing code\n",
    "- Reduces the need for OS-dependent installations of libraries and dependencies "
   ]
  },
  {
   "cell_type": "markdown",
   "metadata": {
    "slideshow": {
     "slide_type": "-"
    }
   },
   "source": [
    "### What is Jupyterhub?\n",
    "- A server for serving out Jupyter Notebooks\n",
    "- Nerdy setup nitty-gritty info: Built on Google Cloud Platform using containers, setup can scale to demand\n",
    "- Python 3.6 "
   ]
  },
  {
   "cell_type": "markdown",
   "metadata": {
    "slideshow": {
     "slide_type": "-"
    }
   },
   "source": [
    "### Let's do some fun stuff\n",
    "\n",
    "- Let's mess around with our Jupyter Notebook\n",
    "- Let's test out our Github skills!\n",
    "\n",
    "\n",
    "1. Let's log in to the Jupyterhub using your Github account\n",
    "2. Open the Jupyter Notebook terminal (on the top right corner, click New > Terminal)\n",
    "3. Let's go into the ohw2018_tutorials folder and update the folder using Git. \n",
    "\n",
    "``` \n",
    "cd ohw_tutorials\n",
    "ls\n",
    "git pull\n",
    "```\n",
    "\n",
    "4. We will also preload some files which will be used in the tutorials over the next few days. Let's go back to the main home directory. \n",
    "\n",
    "```\n",
    "cd .. # go up one directory\n",
    "pwd   # check present working directory\n",
    "\n",
    "```\n",
    "\n",
    "5. We will first get the data for our Synoptics tutorial. \n",
    "\n",
    "```\n",
    "wget 'https://s3-us-west-2.amazonaws.com/oceanhackweek2018/rob_data.tar.gz'\n",
    "tar -xvzf rob_data.tar.gz\n",
    "```\n",
    "\n",
    "6. Then we will get the data for our Data Mining tutorial\n",
    "\n",
    "```\n",
    "wget 'https://s3-us-west-2.amazonaws.com/oceanhackweek2018/whale_data.zip'\n",
    "unzip whale_data.zip\n",
    "```\n",
    "\n",
    "That's it! When you return to your main Jupyter homepage (try clicking the Jupyter logo at the top of the Notebook), you will see all the files there. \n",
    "\n",
    "\n",
    "\n",
    "  "
   ]
  },
  {
   "cell_type": "code",
   "execution_count": null,
   "metadata": {},
   "outputs": [],
   "source": []
  }
 ],
 "metadata": {
  "celltoolbar": "Slideshow",
  "kernelspec": {
   "display_name": "Python [default]",
   "language": "python",
   "name": "python3"
  },
  "language_info": {
   "codemirror_mode": {
    "name": "ipython",
    "version": 3
   },
   "file_extension": ".py",
   "mimetype": "text/x-python",
   "name": "python",
   "nbconvert_exporter": "python",
   "pygments_lexer": "ipython3",
   "version": "3.6.6"
  },
  "livereveal": {
   "auto_select": "none",
   "autolaunch": "true",
   "footer": " ",
   "header": "<script src='/files/static/theme/reveal.js'></script>",
   "start_slideshow_at": "selected"
  }
 },
 "nbformat": 4,
 "nbformat_minor": 2
}
