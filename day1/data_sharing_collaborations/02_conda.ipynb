{
 "cells": [
  {
   "cell_type": "markdown",
   "metadata": {
    "slideshow": {
     "slide_type": "slide"
    }
   },
   "source": [
    "# Introduction to Conda"
   ]
  },
  {
   "cell_type": "markdown",
   "metadata": {
    "slideshow": {
     "slide_type": "slide"
    }
   },
   "source": [
    "## Review from preliminary"
   ]
  },
  {
   "cell_type": "markdown",
   "metadata": {
    "slideshow": {
     "slide_type": "-"
    }
   },
   "source": [
    "### What is conda?\n",
    "- An open source **package** and **environment** management system, \n",
    "  used by the scientific software community\n",
    "- From their website:\n",
    "  \n",
    "  *Package, dependency and environment management for any language—Python, R, Ruby, Lua, Scala, Java, JavaScript, C/ C++, FORTRAN*"
   ]
  },
  {
   "cell_type": "markdown",
   "metadata": {
    "slideshow": {
     "slide_type": "slide"
    }
   },
   "source": [
    "## Review from preliminary (continued)"
   ]
  },
  {
   "cell_type": "markdown",
   "metadata": {
    "slideshow": {
     "slide_type": "-"
    }
   },
   "source": [
    "### Flavors of conda\n",
    "\n",
    "- Miniconda:\n",
    "  \n",
    "  **Lightweight** distribution of conda; only contains the necessary python packages.\n",
    "- Anaconda:\n",
    "\n",
    "  A **data science platform** distribution of conda; comes with a lot of scientific python packages."
   ]
  },
  {
   "cell_type": "markdown",
   "metadata": {
    "slideshow": {
     "slide_type": "slide"
    }
   },
   "source": [
    "## Why not just use pip?\n",
    "\n",
    "- pip is simply just a python package manager\n",
    "- pip does not handle library dependencies outside of the python packages as well as the python packages themselves\n",
    "- pip does not manage virtual environments, you have to install `virtualenv`, the python virtual environment manager\n",
    "\n",
    "**NOTE: Conda can manage pip packages, but pip cannot manage conda packages**"
   ]
  },
  {
   "cell_type": "markdown",
   "metadata": {
    "slideshow": {
     "slide_type": "slide"
    }
   },
   "source": [
    "# Concepts of conda"
   ]
  },
  {
   "cell_type": "markdown",
   "metadata": {
    "slideshow": {
     "slide_type": "slide"
    }
   },
   "source": [
    "## Packages"
   ]
  },
  {
   "cell_type": "markdown",
   "metadata": {
    "slideshow": {
     "slide_type": "fragment"
    }
   },
   "source": [
    "What is a conda package?\n",
    "- A compiled software package, but when installed also include all of its dependencies even the lower level ones\n",
    "- Cross platform\n",
    "- Made from **recipes**"
   ]
  },
  {
   "cell_type": "markdown",
   "metadata": {
    "slideshow": {
     "slide_type": "slide"
    }
   },
   "source": [
    "## Recipes\n",
    "\n",
    "Instruction on how to compile the conda package and its metadata"
   ]
  },
  {
   "cell_type": "markdown",
   "metadata": {},
   "source": [
    "```yaml\n",
    "package:\n",
    "  name: pandas\n",
    "  version: {{ version }}\n",
    "source:\n",
    "  url: https://github.com/pydata/pandas/archive/v{{ version }}.tar.gz\n",
    "  sha256: d9f67bb17f334ad395e01b2339c3756f3e0d0240cb94c094ef711bbfc5c56c80\n",
    "build:\n",
    "  number: 0\n",
    "  script: python setup.py install --single-version-externally-managed --record=record.txt\n",
    "about:\n",
    "  home: http://pandas.pydata.org\n",
    "  license: BSD 3-clause\n",
    "  summary: 'High-performance, easy-to-use data structures and data analysis tools.'\n",
    "extra:\n",
    "  recipe-maintainers:\n",
    "    - jreback\n",
    "    - jorisvandenbossche\n",
    "    - TomAugspurger\n",
    "```"
   ]
  },
  {
   "cell_type": "markdown",
   "metadata": {
    "slideshow": {
     "slide_type": "slide"
    }
   },
   "source": [
    "## Channels"
   ]
  },
  {
   "cell_type": "markdown",
   "metadata": {
    "slideshow": {
     "slide_type": "fragment"
    }
   },
   "source": [
    "What is a conda channel?\n",
    "- Similar to linux repository (or app store)\n",
    "- The service is hosted for free at Anaconda Cloud"
   ]
  },
  {
   "cell_type": "markdown",
   "metadata": {
    "slideshow": {
     "slide_type": "slide"
    }
   },
   "source": [
    "\n",
    "## Conda Forge (https://anaconda.org/conda-forge)\n",
    "\n",
    "Conda forge is a community led collection of recipes, build infrastructure and distributions for the conda package manager."
   ]
  },
  {
   "cell_type": "markdown",
   "metadata": {
    "slideshow": {
     "slide_type": "fragment"
    }
   },
   "source": [
    "Watch Filipe's talk from pycon https://www.youtube.com/watch?v=qJFkIuzD6tI for more info about how to put your packages into the conda-forge channel!"
   ]
  },
  {
   "cell_type": "markdown",
   "metadata": {
    "slideshow": {
     "slide_type": "slide"
    }
   },
   "source": [
    "## Environments"
   ]
  },
  {
   "cell_type": "markdown",
   "metadata": {
    "slideshow": {
     "slide_type": "fragment"
    }
   },
   "source": [
    "What is a conda environment?\n",
    "- Similar to python virtual environments (venv)\n",
    "- A set of isolated packages in a directory\n",
    "- Able to be shared via environment files"
   ]
  },
  {
   "cell_type": "markdown",
   "metadata": {
    "slideshow": {
     "slide_type": "slide"
    }
   },
   "source": [
    "## Now let's take a look of all these pieces in jupyterhub"
   ]
  },
  {
   "cell_type": "markdown",
   "metadata": {},
   "source": [
    "For official walkthrough go to [https://conda.io/docs/user-guide/getting-started.html](https://conda.io/docs/user-guide/getting-started.html)"
   ]
  }
 ],
 "metadata": {
  "celltoolbar": "Slideshow",
  "kernelspec": {
   "display_name": "Python [default]",
   "language": "python",
   "name": "python3"
  },
  "language_info": {
   "codemirror_mode": {
    "name": "ipython",
    "version": 3
   },
   "file_extension": ".py",
   "mimetype": "text/x-python",
   "name": "python",
   "nbconvert_exporter": "python",
   "pygments_lexer": "ipython3",
   "version": "3.6.6"
  },
  "livereveal": {
   "auto_select": "none",
   "autolaunch": "true",
   "footer": " ",
   "header": "<script src='static/theme/reveal.js'></script>",
   "start_slideshow_at": "selected"
  }
 },
 "nbformat": 4,
 "nbformat_minor": 2
}
