{
 "cells": [
  {
   "cell_type": "markdown",
   "metadata": {
    "slideshow": {
     "slide_type": "-"
    }
   },
   "source": [
    "# Introduction to Cloud Computing"
   ]
  },
  {
   "cell_type": "markdown",
   "metadata": {
    "slideshow": {
     "slide_type": "-"
    }
   },
   "source": [
    "### Objectives\n",
    "- Why and when should we use the cloud?\n",
    "- Who is / are AWS?\n",
    "- How do we use the cloud?\n",
    "- Learn how to spin up an instance, install the AWS CLI and create an s3 bucket\n",
    "- Learn how to shut down your instance, save an image and restart an instance from an AMI"
   ]
  },
  {
   "cell_type": "markdown",
   "metadata": {
    "slideshow": {
     "slide_type": "-"
    }
   },
   "source": [
    "### Why use the cloud?\n",
    "\n",
    "#### There are about six advantages to using the public cloud as a research platform.\n",
    "\n",
    "1. You do not wait for compute tasks to go through a queue\n",
    "\n",
    "    - Compute can start as soon as you want it\n",
    "\n",
    "\n",
    "2. You do not purchase and maintain hardware, operating systems etcetera\n",
    "   \n",
    "   - Upgrades just happen\n",
    "\n",
    "\n",
    "3. You pay for resources you use; and then shut them off\n",
    "\n",
    "    - You don’t have to buy into an institutional cluster if the cost calculation doesn’t make sense for you.\n",
    "\n",
    "\n",
    "4. You have huge scale-up potential (reduced processing time)\n",
    "\n",
    "    - In principle, you have near-infinite computing capacity.\n",
    "\n",
    "\n",
    "5. There is a huge support community rapidly expanding cloud tools and tech\n",
    "\n",
    "    - Because of the public availability of these resources, and substantial buy-in from industry, there is a large eco-system of tools and resources.\n",
    "\n",
    "\n",
    "6. Storage, reliability, security and many other off-the-shelf services\n",
    "\n",
    "    - And they just keep making new stuff."
   ]
  },
  {
   "cell_type": "markdown",
   "metadata": {
    "slideshow": {
     "slide_type": "-"
    }
   },
   "source": [
    "### Reasons NOT to migrate to the cloud\n",
    "\n",
    "1. You have already identified an adequate-to-your-needs computing environment like XSEDE Sometimes it just doesn’t make sense. In some cases, you already have the access to the resources you need.\n",
    "\n",
    "2. You don’t have time to learn how to work on the public cloud. There is stuff to learn. That’s what we’re here for! But there will be more to learn after this session is over. If you prefer to learn other things, you might not want to invest your time in learning about the cloud.\n",
    "\n",
    "3. You operate your computer(s) at a very high duty cycle (more cost-effective) If your computer is constantly computing something, the cloud might end up costing you more.\n",
    "\n",
    "4. There is too much administrative drag preventing you from using the cloud That’s a thing. Especially when working with human subject data that is encumbered through regulation (such as HIPAA).\n",
    "\n",
    "\n",
    "  "
   ]
  },
  {
   "cell_type": "markdown",
   "metadata": {
    "slideshow": {
     "slide_type": "-"
    }
   },
   "source": [
    "### Cloud Framework\n",
    "\n",
    "1. Cloud computing is like a utility: You pay for resources you allocate\n",
    "2. Cloud instances can be turned off without losing state/progress and they can be saved as memory images.\n",
    "3. CATTLE, NOT PETS\n",
    "\n",
    "![](./images/Pets-Cattle-1.png)\n",
    "\n",
    "  "
   ]
  },
  {
   "cell_type": "markdown",
   "metadata": {
    "slideshow": {
     "slide_type": "-"
    }
   },
   "source": [
    "### Advisories\n",
    "\n",
    "1. A good way of getting some bad news is to publish and then delete your cloud access credentials on GitHub. GitHub supports versioning: Someone who is not your friend can roll back your public repository to the version where the key was present, grab that key, and start using your cloud account at your expense.\n",
    "\n",
    "2. Manage costs!\n",
    "\n",
    "\n",
    "\n",
    "  "
   ]
  }
 ],
 "metadata": {
  "celltoolbar": "Slideshow",
  "kernelspec": {
   "display_name": "Python [default]",
   "language": "python",
   "name": "python3"
  },
  "language_info": {
   "codemirror_mode": {
    "name": "ipython",
    "version": 3
   },
   "file_extension": ".py",
   "mimetype": "text/x-python",
   "name": "python",
   "nbconvert_exporter": "python",
   "pygments_lexer": "ipython3",
   "version": "3.6.6"
  },
  "livereveal": {
   "auto_select": "none",
   "autolaunch": "true",
   "footer": " ",
   "header": "<script src='/files/static/theme/reveal.js'></script>",
   "start_slideshow_at": "selected"
  }
 },
 "nbformat": 4,
 "nbformat_minor": 2
}
