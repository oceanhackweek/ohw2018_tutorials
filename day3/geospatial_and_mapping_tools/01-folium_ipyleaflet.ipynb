{
 "cells": [
  {
   "cell_type": "markdown",
   "metadata": {
    "slideshow": {
     "slide_type": "slide"
    }
   },
   "source": [
    "# Slippy maps"
   ]
  },
  {
   "cell_type": "code",
   "execution_count": null,
   "metadata": {
    "slideshow": {
     "slide_type": "fragment"
    }
   },
   "outputs": [],
   "source": [
    "import folium\n",
    "\n",
    "lon, lat = -122.3139735, 47.6533665\n",
    "m = folium.Map(location=[lat, lon], zoom_start=17)\n",
    "folium.Marker(location=[lat, lon], popup='You are here!').add_to(m)\n",
    "m"
   ]
  },
  {
   "cell_type": "markdown",
   "metadata": {
    "slideshow": {
     "slide_type": "slide"
    }
   },
   "source": [
    "<div class=\"alert alert-success\" style=\"font-size:80%\">\n",
    "<b>Exercise: Explore `folium.plugins`.</b><br><br>\n",
    "\n",
    "check:\n",
    "\n",
    "- `folium.pluing.Draw`\n",
    "- `folium.plugins.TimestampedWmsTileLayers`\n",
    "- `folium.plugins.Fullscreen`\n",
    "\n",
    "</div>"
   ]
  },
  {
   "cell_type": "code",
   "execution_count": null,
   "metadata": {
    "slideshow": {
     "slide_type": "slide"
    }
   },
   "outputs": [],
   "source": [
    "import folium.plugins\n",
    "\n",
    "\n",
    "\"\"\"...\"\"\""
   ]
  },
  {
   "cell_type": "code",
   "execution_count": null,
   "metadata": {
    "slideshow": {
     "slide_type": "slide"
    }
   },
   "outputs": [],
   "source": [
    "import folium\n",
    "\n",
    "lon, lat = -86.276, 30.935 \n",
    "\n",
    "m = folium.Map(\n",
    "    location=[lat, lon],\n",
    "    tiles='Cartodb Positron',\n",
    "    zoom_start=5\n",
    ")"
   ]
  },
  {
   "cell_type": "code",
   "execution_count": null,
   "metadata": {
    "slideshow": {
     "slide_type": "slide"
    }
   },
   "outputs": [],
   "source": [
    "from pathlib import Path\n",
    "import json\n",
    "\n",
    "path = Path('data')\n",
    "\n",
    "f = path.joinpath('stations.geojson').open()\n",
    "stations = json.load(f)\n",
    "\n",
    "f = path.joinpath('hfradar.geojson').open()\n",
    "hfradar = json.load(f)"
   ]
  },
  {
   "cell_type": "code",
   "execution_count": null,
   "metadata": {
    "slideshow": {
     "slide_type": "slide"
    }
   },
   "outputs": [],
   "source": [
    "icon_size = (14, 14)\n",
    "\n",
    "for feature in stations['features']:\n",
    "    lon, lat = feature['geometry']['coordinates']\n",
    "    icon_url = feature['properties']['icon']\n",
    "    popup = feature['properties']['popupcontent']\n",
    "\n",
    "    icon = folium.features.CustomIcon(\n",
    "        icon_url,\n",
    "        icon_size=(14, 14)\n",
    "    )\n",
    "\n",
    "    marker = folium.map.Marker(\n",
    "        location=[lat, lon],\n",
    "        icon=icon,\n",
    "        popup=folium.map.Popup(popup)\n",
    "    )\n",
    "    m.add_child(marker)"
   ]
  },
  {
   "cell_type": "code",
   "execution_count": null,
   "metadata": {
    "slideshow": {
     "slide_type": "slide"
    }
   },
   "outputs": [],
   "source": [
    "style_function = lambda feature: {\n",
    "    'fillColor': '#DEFFDE',\n",
    "    'color': '#AECCAE',\n",
    "    'weight': 1,\n",
    "    'opacity': 1,\n",
    "}"
   ]
  },
  {
   "cell_type": "code",
   "execution_count": null,
   "metadata": {
    "slideshow": {
     "slide_type": "slide"
    }
   },
   "outputs": [],
   "source": [
    "for feature in hfradar['features']:\n",
    "    if feature['geometry']['type'] == 'Point':\n",
    "        lon, lat = feature['geometry']['coordinates']\n",
    "        icon_url = feature['properties']['icon']\n",
    "        popup = feature['properties']['popupcontent']\n",
    "\n",
    "        icon = folium.features.CustomIcon(\n",
    "            icon_url,\n",
    "            icon_size=(14, 14)\n",
    "        )\n",
    "        marker = folium.Marker(\n",
    "            location=[lat, lon],\n",
    "            icon=icon,\n",
    "            popup=folium.Popup(popup)\n",
    "        )\n",
    "        m.add_child(marker)\n",
    "    elif feature['geometry']['type'] == 'Polygon':\n",
    "        gjson = folium.features.GeoJson(\n",
    "            feature,\n",
    "            style_function=style_function\n",
    "        )\n",
    "\n",
    "        m.add_child(gjson)"
   ]
  },
  {
   "cell_type": "code",
   "execution_count": null,
   "metadata": {
    "slideshow": {
     "slide_type": "slide"
    }
   },
   "outputs": [],
   "source": [
    "m"
   ]
  },
  {
   "cell_type": "markdown",
   "metadata": {
    "slideshow": {
     "slide_type": "slide"
    }
   },
   "source": [
    "### For more examples please check folium's gallery\n",
    "\n",
    "[http://nbviewer.jupyter.org/github/python-visualization/folium/tree/master/examples](http://nbviewer.jupyter.org/github/python-visualization/folium/tree/master/examples)"
   ]
  },
  {
   "cell_type": "code",
   "execution_count": null,
   "metadata": {
    "slideshow": {
     "slide_type": "slide"
    }
   },
   "outputs": [],
   "source": [
    "import gridgeo\n",
    "\n",
    "\n",
    "url = ('http://amb6400b.stccmop.org:8080/thredds/dodsC/'\n",
    "       'model_data/forecast.nc')\n",
    "\n",
    "grid = gridgeo.GridGeo(url, standard_name='sea_surface_temperature')"
   ]
  },
  {
   "cell_type": "code",
   "execution_count": null,
   "metadata": {
    "slideshow": {
     "slide_type": "fragment"
    }
   },
   "outputs": [],
   "source": [
    "grid.mesh"
   ]
  },
  {
   "cell_type": "code",
   "execution_count": null,
   "metadata": {
    "slideshow": {
     "slide_type": "fragment"
    }
   },
   "outputs": [],
   "source": [
    "grid.outline"
   ]
  },
  {
   "cell_type": "code",
   "execution_count": null,
   "metadata": {
    "slideshow": {
     "slide_type": "slide"
    }
   },
   "outputs": [],
   "source": [
    "print(f'The grid has {len(grid.polygons)} polygons, '\n",
    "      'showing the first 5.')\n",
    "\n",
    "grid.geometry[:10]"
   ]
  },
  {
   "cell_type": "code",
   "execution_count": null,
   "metadata": {
    "slideshow": {
     "slide_type": "slide"
    }
   },
   "outputs": [],
   "source": [
    "%matplotlib inline\n",
    "import cartopy.crs as ccrs\n",
    "import matplotlib.pyplot as plt\n",
    "\n",
    "fig, ax = plt.subplots(figsize=(12, 12),\n",
    "                       subplot_kw={'projection': ccrs.PlateCarree()})\n",
    "\n",
    "kw = dict(marker='.', linestyle='-', alpha=0.25, color='darkgray')\n",
    "ax.triplot(grid.triang, **kw)\n",
    "ax.coastlines(resolution='10m');"
   ]
  },
  {
   "cell_type": "code",
   "execution_count": null,
   "metadata": {
    "slideshow": {
     "slide_type": "slide"
    }
   },
   "outputs": [],
   "source": [
    "m = folium.Map()\n",
    "\n",
    "folium.GeoJson(grid.outline.__geo_interface__).add_to(m)\n",
    "\n",
    "m.fit_bounds(m.get_bounds())"
   ]
  },
  {
   "cell_type": "code",
   "execution_count": null,
   "metadata": {
    "slideshow": {
     "slide_type": "slide"
    }
   },
   "outputs": [],
   "source": [
    "m"
   ]
  },
  {
   "cell_type": "code",
   "execution_count": null,
   "metadata": {
    "slideshow": {
     "slide_type": "skip"
    }
   },
   "outputs": [],
   "source": [
    "# %load 01-folium_ipyleaflet-extra.py\n",
    "import fiona\n",
    "\n",
    "fname = path.joinpath('model_grid', 'grid.shp')\n",
    "\n",
    "schema = {\n",
    "    'geometry': 'MultiPolygon',\n",
    "    'properties': {'name': f'str:{len(grid.mesh)}'}\n",
    "}\n",
    "\n",
    "with fiona.open(str(fname), 'w', 'ESRI Shapefile', schema) as f:\n",
    "    f.write(\n",
    "        {\n",
    "            'geometry': grid.outline.__geo_interface__,\n",
    "            'properties': {'name': grid.mesh}\n",
    "        }\n",
    "    )"
   ]
  },
  {
   "cell_type": "markdown",
   "metadata": {
    "slideshow": {
     "slide_type": "slide"
    }
   },
   "source": [
    "### ipyleaflet"
   ]
  },
  {
   "cell_type": "code",
   "execution_count": null,
   "metadata": {
    "slideshow": {
     "slide_type": "fragment"
    }
   },
   "outputs": [],
   "source": [
    "from ipyleaflet import Map, Velocity, TileLayer, basemaps\n",
    "import xarray as xr\n",
    "\n",
    "zoom = 3\n",
    "\n",
    "m = Map(\n",
    "    center=[44, -130],\n",
    "    zoom=3,\n",
    "    interpolation='nearest',\n",
    "    basemap=basemaps.CartoDB.DarkMatter,\n",
    ")"
   ]
  },
  {
   "cell_type": "code",
   "execution_count": null,
   "metadata": {
    "slideshow": {
     "slide_type": "slide"
    }
   },
   "outputs": [],
   "source": [
    "ds = xr.open_dataset(path.joinpath('wind-global.nc'))\n",
    "\n",
    "display_options = {\n",
    "    'velocityType': 'Global Wind',\n",
    "    'displayPosition': 'bottomleft',\n",
    "    'displayEmptyString': 'No wind data'\n",
    "}\n",
    "wind = Velocity(\n",
    "    data=ds, \n",
    "    zonal_speed='u_wind', meridional_speed='v_wind', \n",
    "    latitude_dimension='lat', longitude_dimension='lon', \n",
    "    velocity_scale=0.01, max_velocity=20, \n",
    "    display_options=display_options\n",
    ")\n",
    "m.add_layer(wind)"
   ]
  },
  {
   "cell_type": "code",
   "execution_count": null,
   "metadata": {
    "slideshow": {
     "slide_type": "slide"
    }
   },
   "outputs": [],
   "source": [
    "m"
   ]
  },
  {
   "cell_type": "markdown",
   "metadata": {
    "slideshow": {
     "slide_type": "slide"
    }
   },
   "source": [
    "### Extras"
   ]
  },
  {
   "cell_type": "code",
   "execution_count": null,
   "metadata": {
    "slideshow": {
     "slide_type": "fragment"
    }
   },
   "outputs": [],
   "source": [
    "import pandas as pd\n",
    "\n",
    "\n",
    "url = (\n",
    "    'https://whereonmars.carto.com/api/v2/sql?'\n",
    "    'filename=themartian&'\n",
    "    'q=SELECT+*+FROM+(select+*+from+public.themartian)+as+subq+&'\n",
    "    'format=csv&'\n",
    "    'bounds=&'\n",
    "    'api_key=&'\n",
    "    'skipfields=the_geom_webmercator'\n",
    ")\n",
    "\n",
    "df = pd.read_csv(url, index_col='cartodb_id').sort_index().drop('the_geom', axis=1)"
   ]
  },
  {
   "cell_type": "code",
   "execution_count": null,
   "metadata": {
    "slideshow": {
     "slide_type": "slide"
    }
   },
   "outputs": [],
   "source": [
    "import folium\n",
    "from folium.plugins import Draw, Fullscreen\n",
    "\n",
    "opm_attr = '<a href=\"https://github.com/openplanetary/opm/wiki/OPM-Basemaps\" target=\"blank\">OpenPlanetaryMap</a>'\n",
    "\n",
    "m = folium.Map(\n",
    "    attr=f'NASA/MOLA |{opm_attr}',\n",
    "    max_zoom=5,\n",
    "    tiles='https://s3-eu-west-1.amazonaws.com/whereonmars.cartodb.net/mola-color/{z}/{x}/{-y}.png'\n",
    ")\n",
    "\n",
    "Fullscreen().add_to(m);"
   ]
  },
  {
   "cell_type": "code",
   "execution_count": null,
   "metadata": {
    "slideshow": {
     "slide_type": "slide"
    }
   },
   "outputs": [],
   "source": [
    "kw = {\n",
    "    'fill': True,\n",
    "    'color': 'white',\n",
    "    'fill_color': 'white',\n",
    "    'fill_opacity': 1,\n",
    "}\n",
    "\n",
    "\n",
    "for k, row in df.iterrows():\n",
    "    title = row['title'] if isinstance(row['title'], str) else None\n",
    "    location = [row['lat'], row['lng']]\n",
    "    if title:\n",
    "        folium.CircleMarker(location=location, popup=title, radius=5, **kw).add_to(m)\n",
    "    else:\n",
    "        folium.CircleMarker(location=location, radius=1, **kw).add_to(m)"
   ]
  },
  {
   "cell_type": "code",
   "execution_count": null,
   "metadata": {
    "slideshow": {
     "slide_type": "slide"
    }
   },
   "outputs": [],
   "source": [
    "m"
   ]
  }
 ],
 "metadata": {
  "celltoolbar": "Slideshow",
  "kernelspec": {
   "display_name": "Python 3",
   "language": "python",
   "name": "python3"
  },
  "language_info": {
   "codemirror_mode": {
    "name": "ipython",
    "version": 3
   },
   "file_extension": ".py",
   "mimetype": "text/x-python",
   "name": "python",
   "nbconvert_exporter": "python",
   "pygments_lexer": "ipython3",
   "version": "3.6.6"
  },
  "livereveal": {
   "auto_select": "none",
   "autolaunch": "true",
   "footer": " ",
   "header": "<script src='/files/static/theme/reveal.js'></script>",
   "start_slideshow_at": "selected"
  }
 },
 "nbformat": 4,
 "nbformat_minor": 2
}
