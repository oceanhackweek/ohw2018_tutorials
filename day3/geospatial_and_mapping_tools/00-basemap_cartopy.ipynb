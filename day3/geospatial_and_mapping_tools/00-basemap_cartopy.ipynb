{
 "cells": [
  {
   "cell_type": "code",
   "execution_count": null,
   "metadata": {
    "slideshow": {
     "slide_type": "skip"
    }
   },
   "outputs": [],
   "source": [
    "%matplotlib inline\n",
    "from pathlib import Path\n",
    "path = Path('data')"
   ]
  },
  {
   "cell_type": "code",
   "execution_count": null,
   "metadata": {
    "scrolled": true,
    "slideshow": {
     "slide_type": "slide"
    }
   },
   "outputs": [],
   "source": [
    "import pandas as pd\n",
    "\n",
    "\n",
    "fname = path.joinpath('challenger_path.csv')\n",
    "df = pd.read_csv(fname, names=['lon', 'lat'])\n",
    "df.head()"
   ]
  },
  {
   "cell_type": "code",
   "execution_count": null,
   "metadata": {
    "slideshow": {
     "slide_type": "slide"
    }
   },
   "outputs": [],
   "source": [
    "import matplotlib.pyplot as plt\n",
    "from mpl_toolkits.basemap import Basemap\n",
    "\n",
    "\n",
    "def make_basemap(projection='robin', figsize=(9, 9), resolution='c'):\n",
    "    fig, ax = plt.subplots(figsize=figsize)\n",
    "    m = Basemap(projection=projection, resolution=resolution,\n",
    "                lon_0=0, ax=ax)\n",
    "    m.drawcoastlines()\n",
    "    m.fillcontinents(color='0.85')\n",
    "    return fig, m"
   ]
  },
  {
   "cell_type": "code",
   "execution_count": null,
   "metadata": {
    "scrolled": false,
    "slideshow": {
     "slide_type": "slide"
    }
   },
   "outputs": [],
   "source": [
    "fig, m = make_basemap()\n",
    "\n",
    "kw = {'color': '#FF9900', 'linestyle': '-', 'linewidth': 1.5}\n",
    "parallels = range(-60, 90, 30)\n",
    "meridians = range(-360, 360, 60)\n",
    "m.drawparallels(parallels, labels=[1, 0, 0, 0])\n",
    "m.drawmeridians(meridians, labels=[0, 0, 1, 0])\n",
    "\n",
    "df['x'], df['y'] = m(df['lon'].values, df['lat'].values)\n",
    "m.plot(df['x'].values, df['y'].values, **kw);"
   ]
  },
  {
   "cell_type": "code",
   "execution_count": null,
   "metadata": {
    "slideshow": {
     "slide_type": "slide"
    }
   },
   "outputs": [],
   "source": [
    "from IPython.display import IFrame\n",
    "\n",
    "src = 'https://matplotlib.org/basemap/users/intro.html#cartopy-new-management-and-eol-announcement'\n",
    "\n",
    "IFrame(src, width=700, height=500)"
   ]
  },
  {
   "cell_type": "code",
   "execution_count": null,
   "metadata": {
    "slideshow": {
     "slide_type": "slide"
    }
   },
   "outputs": [],
   "source": [
    "import cartopy.crs as ccrs\n",
    "\n",
    "\n",
    "def make_map(projection=ccrs.PlateCarree(), figsize=(5, 5)):\n",
    "    fig, ax = plt.subplots(\n",
    "        figsize=figsize,\n",
    "        subplot_kw={'projection': projection})\n",
    "    return fig, ax"
   ]
  },
  {
   "cell_type": "code",
   "execution_count": null,
   "metadata": {
    "slideshow": {
     "slide_type": "slide"
    }
   },
   "outputs": [],
   "source": [
    "import cartopy.feature as cfeature\n",
    "\n",
    "\n",
    "fig, ax = make_map(projection=ccrs.Robinson(), figsize=(9, 9))\n",
    "\n",
    "ax.set_global()\n",
    "ax.coastlines(resolution='110m', color='k')\n",
    "ax.add_feature(cfeature.LAND, facecolor='0.75')\n",
    "\n",
    "ax.plot(df['lon'], df['lat'], transform=ccrs.Geodetic(), **kw);"
   ]
  },
  {
   "cell_type": "code",
   "execution_count": null,
   "metadata": {
    "slideshow": {
     "slide_type": "slide"
    }
   },
   "outputs": [],
   "source": [
    "fig, ax = make_map(projection=ccrs.PlateCarree())\n",
    "ax.coastlines()\n",
    "\n",
    "kw = {'linewidth': 4, 'color': 'g', 'transform': ccrs.Geodetic()}\n",
    "ax.plot([-100, 50], [25, 25], label='Geodetic1', **kw)\n",
    "ax.plot([-38, 147], [-13, -42], label='Geodetic1', **kw)\n",
    "\n",
    "kw.update({'color': 'b', 'transform': ccrs.PlateCarree()})\n",
    "ax.plot([-100, 50], [25, 25], label='PlateCarree1', **kw)\n",
    "ax.plot([-38, 147], [-13, -42], label='PlateCarree2', **kw)\n",
    "\n",
    "ax.legend(loc=(1.05, 0.5));"
   ]
  },
  {
   "cell_type": "markdown",
   "metadata": {
    "slideshow": {
     "slide_type": "slide"
    }
   },
   "source": [
    "<div class=\"alert alert-success\" style=\"font-size:80%\">\n",
    "<b>Exercise 00: check what `cartopy` adds to the mpl `ax`.</b><br><br>\n",
    "\n",
    "tips:\n",
    "\n",
    "- create a `plt.axes()` object;\n",
    "- create a new one with a projection;\n",
    "- compare new methods were added on the second one.\n",
    "\n",
    "</div>"
   ]
  },
  {
   "cell_type": "code",
   "execution_count": null,
   "metadata": {
    "slideshow": {
     "slide_type": "slide"
    }
   },
   "outputs": [],
   "source": [
    "%load 00-basemap_cartopy-00-sol.py"
   ]
  },
  {
   "cell_type": "markdown",
   "metadata": {
    "slideshow": {
     "slide_type": "slide"
    }
   },
   "source": [
    "<div class=\"alert alert-info\" style=\"font-size:80%\">\n",
    "<b>REFERENCE</b>: <br><br>\n",
    "\n",
    "<ul>\n",
    "  <li>`coastlines`</li>\n",
    "  <li>`set_global`</li>\n",
    "  <li>`gridlines`</li>\n",
    "  <li>`add_feature`</li>\n",
    "  <li>`set_extent`</li>\n",
    "  <li>`projection`</li>\n",
    "  <li>`get_extent`</li>\n",
    "</ul>\n",
    "\n",
    "</div>"
   ]
  },
  {
   "cell_type": "markdown",
   "metadata": {
    "slideshow": {
     "slide_type": "slide"
    }
   },
   "source": [
    "<div class=\"alert alert-warning\" style=\"font-size:80%\">\n",
    "<b>REFERENCE</b>: <br><br>\n",
    "\n",
    "<ul>\n",
    "  <li>`img_factories`</li>\n",
    "  <li>`natural_earth_shp`</li>\n",
    "  <li>`outline_patch`</li>\n",
    "  <li>`read_user_background_images`</li>\n",
    "  <li>`set_boundary`</li>\n",
    "  <li>`tissot`</li>\n",
    "  <li>`add_geometries`</li>\n",
    "  <li>`add_raster`</li>\n",
    "  <li>`add_wms`</li>\n",
    "  <li>`add_wmts`</li>\n",
    "  <li>`background_img`</li>\n",
    "  <li>`background_patch`</li>\n",
    "  <li>`hold_limits`</li>\n",
    "</ul>\n",
    "\n",
    "</div>"
   ]
  },
  {
   "cell_type": "code",
   "execution_count": null,
   "metadata": {
    "slideshow": {
     "slide_type": "slide"
    }
   },
   "outputs": [],
   "source": [
    "import matplotlib.ticker as mticker\n",
    "from cartopy.mpl.gridliner import (LONGITUDE_FORMATTER,\n",
    "                                   LATITUDE_FORMATTER)\n",
    "fig, ax = make_map(projection=ccrs.PlateCarree(), figsize=(3, 3))\n",
    "ax.stock_img()\n",
    "\n",
    "coastline = cfeature.GSHHSFeature(scale='coarse')\n",
    "ax.add_feature(coastline)\n",
    "\n",
    "gl = ax.gridlines(draw_labels=True)\n",
    "gl.xlabels_bottom = gl.ylabels_left = False\n",
    "gl.xformatter = LONGITUDE_FORMATTER\n",
    "gl.yformatter = LATITUDE_FORMATTER\n",
    "gl.xlocator = mticker.FixedLocator([-30, -15, 0, 15, 30, 45, 60])\n",
    "ax.set_extent([-30, 60, -40, 40])"
   ]
  },
  {
   "cell_type": "markdown",
   "metadata": {
    "slideshow": {
     "slide_type": "slide"
    }
   },
   "source": [
    "<div class=\"alert alert-success\" style=\"font-size:80%\">\n",
    "<b>Exercise 01: repeat the map above and change.</b><br><br>\n",
    "\n",
    "- the line style: `ax.gridlines(some opts)`\n",
    "- the y label style: `ylabel_style(dict with text opts)`\n",
    "</div>"
   ]
  },
  {
   "cell_type": "code",
   "execution_count": null,
   "metadata": {
    "slideshow": {
     "slide_type": "slide"
    }
   },
   "outputs": [],
   "source": [
    "%load 00-basemap_cartopy-01-sol.py"
   ]
  },
  {
   "cell_type": "code",
   "execution_count": null,
   "metadata": {
    "slideshow": {
     "slide_type": "slide"
    }
   },
   "outputs": [],
   "source": [
    "from cartopy.io import img_tiles\n",
    "\n",
    "url = ('https://server.arcgisonline.com/ArcGIS/rest/services/'\n",
    "       'World_Imagery/MapServer/tile/{z}/{y}/{x}.jpg')\n",
    "\n",
    "request = img_tiles.GoogleTiles(url)\n",
    "fig, ax = plt.subplots(figsize=(9, 9),\n",
    "                       subplot_kw=dict(projection=request.crs))\n",
    "\n",
    "extent = -48.50, -48.35, -27.35, -27.5\n",
    "ax.set_extent(extent)\n",
    "\n",
    "zoom = 13\n",
    "ax.add_image(request, zoom)"
   ]
  },
  {
   "cell_type": "markdown",
   "metadata": {
    "slideshow": {
     "slide_type": "slide"
    }
   },
   "source": [
    "### Natural Earth"
   ]
  },
  {
   "cell_type": "code",
   "execution_count": null,
   "metadata": {
    "slideshow": {
     "slide_type": "fragment"
    }
   },
   "outputs": [],
   "source": [
    "from cartopy.feature import NaturalEarthFeature\n",
    "\n",
    "fig, ax = make_map(projection=ccrs.LambertConformal(), figsize=(9, 9))\n",
    "\n",
    "ax.set_extent([-125, -66.5, 20, 50], ccrs.Geodetic())\n",
    "ax.background_patch.set_visible(False)\n",
    "ax.outline_patch.set_visible(False)\n",
    "\n",
    "states = NaturalEarthFeature(category='cultural',\n",
    "                             scale='110m',\n",
    "                             facecolor='none',\n",
    "                             name='admin_1_states_provinces_shp')\n",
    "feat = ax.add_feature(states, edgecolor='gray')"
   ]
  },
  {
   "cell_type": "markdown",
   "metadata": {
    "slideshow": {
     "slide_type": "slide"
    }
   },
   "source": [
    "### Image overlay"
   ]
  },
  {
   "cell_type": "code",
   "execution_count": null,
   "metadata": {
    "slideshow": {
     "slide_type": "skip"
    }
   },
   "outputs": [],
   "source": [
    "lon = [-40.77, -40.51, -40.30, -40.23, -40.13, -40.06, -39.99,\n",
    "       -39.87, -39.72, -39.52, -39.32, -39.11, -38.91, -38.71]\n",
    "lat = [-21.29, -21.39, -21.48, -21.51, -21.56, -21.58, -21.62,\n",
    "       -21.69, -21.76, -21.86, -21.96, -22.08, -22.15, -22.25]"
   ]
  },
  {
   "cell_type": "code",
   "execution_count": null,
   "metadata": {
    "slideshow": {
     "slide_type": "fragment"
    }
   },
   "outputs": [],
   "source": [
    "fig, ax = make_map(projection=ccrs.PlateCarree(), figsize=(8, 8))\n",
    "\n",
    "fname = path.joinpath('AVHRR.png')\n",
    "img = plt.imread(str(fname))\n",
    "img_extent = (-48, -32, -30, -18)\n",
    "\n",
    "ax.imshow(img, origin='upper', extent=img_extent,\n",
    "          transform=ccrs.PlateCarree())\n",
    "\n",
    "lines = ax.plot(lon, lat, 'blue', marker='*',\n",
    "                markersize=10, alpha=0.5)"
   ]
  },
  {
   "cell_type": "markdown",
   "metadata": {
    "slideshow": {
     "slide_type": "slide"
    }
   },
   "source": [
    "### Shapefiles"
   ]
  },
  {
   "cell_type": "code",
   "execution_count": null,
   "metadata": {
    "slideshow": {
     "slide_type": "fragment"
    }
   },
   "outputs": [],
   "source": [
    "extent = [-39, -38.25, -13.25, -12.5]\n",
    "coastline = cfeature.GSHHSFeature(scale='full')\n",
    "\n",
    "fig, ax = make_map(projection=ccrs.PlateCarree())\n",
    "ax.set_extent(extent)\n",
    "art = ax.add_feature(coastline)"
   ]
  },
  {
   "cell_type": "code",
   "execution_count": null,
   "metadata": {
    "slideshow": {
     "slide_type": "slide"
    }
   },
   "outputs": [],
   "source": [
    "import geopandas\n",
    "\n",
    "fname = path.joinpath('BTS', 'BTS.shp')\n",
    "gdf = geopandas.read_file(str(fname))\n",
    "\n",
    "gdf"
   ]
  },
  {
   "cell_type": "code",
   "execution_count": null,
   "metadata": {
    "slideshow": {
     "slide_type": "slide"
    }
   },
   "outputs": [],
   "source": [
    "fig, ax = make_map(projection=ccrs.PlateCarree())\n",
    "ax.set_extent(extent)\n",
    "\n",
    "geometry = gdf['geometry'].iloc[0]\n",
    "ax.add_geometries([geometry], ccrs.PlateCarree(),\n",
    "                  facecolor='w', edgecolor='black');"
   ]
  },
  {
   "cell_type": "markdown",
   "metadata": {
    "slideshow": {
     "slide_type": "slide"
    }
   },
   "source": [
    "### Re-projecting data"
   ]
  },
  {
   "cell_type": "code",
   "execution_count": null,
   "metadata": {
    "slideshow": {
     "slide_type": "fragment"
    }
   },
   "outputs": [],
   "source": [
    "fname = path.joinpath('rivers_BTS.xlsx')\n",
    "\n",
    "df = pd.read_excel(fname)\n",
    "\n",
    "df.head()"
   ]
  },
  {
   "cell_type": "code",
   "execution_count": null,
   "metadata": {
    "slideshow": {
     "slide_type": "slide"
    }
   },
   "outputs": [],
   "source": [
    "from pyproj import Proj\n",
    "\n",
    "proj_string = [\n",
    "    '+proj=utm',\n",
    "    '+zone=24L',\n",
    "    '+south',\n",
    "    '+ellps=WGS84',\n",
    "    '+datum=WGS84',\n",
    "    '+units=m',\n",
    "    '+no_defs',\n",
    "]\n",
    "    \n",
    "utm = Proj(' '.join(proj_string))\n",
    "\n",
    "df['lon'], df['lat'] = utm(df['x'].values,\n",
    "                           df['y'].values, inverse=True)\n",
    "df.head()"
   ]
  },
  {
   "cell_type": "code",
   "execution_count": null,
   "metadata": {
    "scrolled": false,
    "slideshow": {
     "slide_type": "slide"
    }
   },
   "outputs": [],
   "source": [
    "fig, ax = make_map(projection=ccrs.PlateCarree(), figsize=(7, 7))\n",
    "ax.set_extent(extent)\n",
    "\n",
    "ax.add_geometries([geometry], ccrs.PlateCarree(),\n",
    "                  facecolor='w', edgecolor='black')\n",
    "ax.plot(df['lon'], df['lat'], 'ro', alpha=0.5)\n",
    "\n",
    "transform = ccrs.UTM(zone=24,\n",
    "                     southern_hemisphere=True,\n",
    "                     globe=ccrs.Globe(datum='WGS84', ellipse='WGS84'))\n",
    "\n",
    "ax.plot(df['x'], df['y'], 'bo', alpha=0.5,\n",
    "        transform=transform);"
   ]
  },
  {
   "cell_type": "markdown",
   "metadata": {
    "slideshow": {
     "slide_type": "slide"
    }
   },
   "source": [
    "# Questions?\n",
    "\n",
    "![https://xkcd.com/977/](https://imgs.xkcd.com/comics/map_projections.png)"
   ]
  }
 ],
 "metadata": {
  "celltoolbar": "Slideshow",
  "kernelspec": {
   "display_name": "Python 3",
   "language": "python",
   "name": "python3"
  },
  "language_info": {
   "codemirror_mode": {
    "name": "ipython",
    "version": 3
   },
   "file_extension": ".py",
   "mimetype": "text/x-python",
   "name": "python",
   "nbconvert_exporter": "python",
   "pygments_lexer": "ipython3",
   "version": "3.6.6"
  },
  "livereveal": {
   "auto_select": "none",
   "autolaunch": "true",
   "footer": " ",
   "header": "<script src='/files/static/theme/reveal.js'></script>",
   "start_slideshow_at": "selected"
  }
 },
 "nbformat": 4,
 "nbformat_minor": 2
}
