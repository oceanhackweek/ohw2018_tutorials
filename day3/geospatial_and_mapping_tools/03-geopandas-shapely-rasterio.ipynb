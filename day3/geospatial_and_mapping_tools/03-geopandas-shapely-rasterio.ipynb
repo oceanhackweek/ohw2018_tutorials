{
 "cells": [
  {
   "cell_type": "code",
   "execution_count": null,
   "metadata": {
    "slideshow": {
     "slide_type": "skip"
    }
   },
   "outputs": [],
   "source": [
    "%matplotlib inline\n",
    "\n",
    "from pathlib import Path"
   ]
  },
  {
   "cell_type": "code",
   "execution_count": null,
   "metadata": {
    "slideshow": {
     "slide_type": "slide"
    }
   },
   "outputs": [],
   "source": [
    "import geopandas\n",
    "\n",
    "path = Path('data')\n",
    "\n",
    "\n",
    "countries = geopandas.read_file(\n",
    "    f'zip://{path.joinpath(\"ne_110m_admin_0_countries.zip\")}'\n",
    ")\n",
    "\n",
    "rivers = geopandas.read_file(\n",
    "    f'zip://{path.joinpath(\"ne_50m_rivers_lake_centerlines.zip\")}'\n",
    ")"
   ]
  },
  {
   "cell_type": "code",
   "execution_count": null,
   "metadata": {
    "slideshow": {
     "slide_type": "fragment"
    }
   },
   "outputs": [],
   "source": [
    "countries.head()"
   ]
  },
  {
   "cell_type": "code",
   "execution_count": null,
   "metadata": {
    "slideshow": {
     "slide_type": "slide"
    }
   },
   "outputs": [],
   "source": [
    "ax = countries.plot(figsize=(20, 20))"
   ]
  },
  {
   "cell_type": "markdown",
   "metadata": {
    "slideshow": {
     "slide_type": "slide"
    }
   },
   "source": [
    "<div class=\"alert alert-success\" style=\"font-size:120%\">\n",
    "<b>Exercise</b>: <br><br>\n",
    "\n",
    "What the type is of `ax` object here?\n",
    "</div>"
   ]
  },
  {
   "cell_type": "code",
   "execution_count": null,
   "metadata": {
    "slideshow": {
     "slide_type": "slide"
    }
   },
   "outputs": [],
   "source": [
    "amazon = rivers[rivers['name'] == 'Amazonas'].geometry.squeeze()\n",
    "\n",
    "amazon"
   ]
  },
  {
   "cell_type": "markdown",
   "metadata": {
    "slideshow": {
     "slide_type": "slide"
    }
   },
   "source": [
    "<div class=\"alert alert-success\" style=\"font-size:120%\">\n",
    "<b>Exercise</b>: <br><br>\n",
    "\n",
    "What the type is of `amazon` object here?\n",
    "</div>"
   ]
  },
  {
   "cell_type": "code",
   "execution_count": null,
   "metadata": {
    "slideshow": {
     "slide_type": "slide"
    }
   },
   "outputs": [],
   "source": [
    "countries[countries.crosses(amazon)]"
   ]
  },
  {
   "cell_type": "markdown",
   "metadata": {
    "slideshow": {
     "slide_type": "slide"
    }
   },
   "source": [
    "<div class=\"alert alert-info\" style=\"font-size:80%\">\n",
    "<b>REFERENCE</b>: <br><br>\n",
    "\n",
    "<ul>\n",
    "  <li>`equals`</li>\n",
    "  <li>`contains`</li>\n",
    "  <li>`crosses`</li>\n",
    "  <li>`disjoint`</li>\n",
    "  <li>`intersects`</li>\n",
    "  <li>`overlaps`</li>\n",
    "  <li>`touches`</li>\n",
    "  <li>`within`</li>\n",
    "  <li>`covers`</li>\n",
    "</ul>\n",
    "\n",
    "<p>\n",
    "See https://shapely.readthedocs.io/en/stable/manual.html#predicates-and-relationships for an overview of those methods.\n",
    "<p></p>\n",
    "See https://en.wikipedia.org/wiki/DE-9IM for all details on the semantics of those operations.\n",
    "</p>\n",
    "</div>"
   ]
  },
  {
   "cell_type": "markdown",
   "metadata": {
    "slideshow": {
     "slide_type": "slide"
    }
   },
   "source": [
    "<div class=\"alert alert-success\" style=\"font-size:120%\">\n",
    "<b>Exercise</b>: <br><br>\n",
    "\n",
    "Does Brazil share a border with any European country?\n",
    "</div>"
   ]
  },
  {
   "cell_type": "code",
   "execution_count": null,
   "metadata": {
    "slideshow": {
     "slide_type": "slide"
    }
   },
   "outputs": [],
   "source": [
    "%load 03-geopandas-shapely"
   ]
  },
  {
   "cell_type": "code",
   "execution_count": null,
   "metadata": {
    "slideshow": {
     "slide_type": "slide"
    }
   },
   "outputs": [],
   "source": [
    "import folium\n",
    "\n",
    "\n",
    "m = folium.Map()\n",
    "for k, country in intersec.iterrows():\n",
    "    gj = folium.GeoJson(country['geometry'].__geo_interface__)\n",
    "    folium.Popup(country['name']).add_to(gj)\n",
    "    gj.add_to(m)\n",
    "\n",
    "m.fit_bounds(m.get_bounds())"
   ]
  },
  {
   "cell_type": "code",
   "execution_count": null,
   "metadata": {
    "slideshow": {
     "slide_type": "slide"
    }
   },
   "outputs": [],
   "source": [
    "m"
   ]
  },
  {
   "cell_type": "markdown",
   "metadata": {
    "slideshow": {
     "slide_type": "slide"
    }
   },
   "source": [
    "### Rasterio"
   ]
  },
  {
   "cell_type": "code",
   "execution_count": null,
   "metadata": {
    "slideshow": {
     "slide_type": "fragment"
    }
   },
   "outputs": [],
   "source": [
    "import rasterio\n",
    "from rasterio import plot\n",
    "\n",
    "\n",
    "fname = path.joinpath('world.rgb.tif')\n",
    "\n",
    "world = rasterio.open(fname)\n",
    "\n",
    "type(world)"
   ]
  },
  {
   "cell_type": "code",
   "execution_count": null,
   "metadata": {
    "slideshow": {
     "slide_type": "fragment"
    }
   },
   "outputs": [],
   "source": [
    "%matplotlib inline\n",
    "import matplotlib.pyplot as plt\n",
    "\n",
    "fig, (axr, axg, axb) = plt.subplots(1,3, figsize=(12, 4), sharex=True, sharey=True)\n",
    "plot.show((world, 1), ax=axr, cmap='Reds', title='red channel')\n",
    "plot.show((world, 2), ax=axg, cmap='Greens', title='green channel')\n",
    "plot.show((world, 3), ax=axb, cmap='Blues', title='blue channel');"
   ]
  },
  {
   "cell_type": "code",
   "execution_count": null,
   "metadata": {},
   "outputs": [],
   "source": [
    "plot.show_hist(world, bins=50, lw=0.0, stacked=False, alpha=0.3, \n",
    "               histtype='stepfilled', title='World Histogram overlaid')"
   ]
  },
  {
   "cell_type": "code",
   "execution_count": null,
   "metadata": {
    "slideshow": {
     "slide_type": "slide"
    }
   },
   "outputs": [],
   "source": [
    "world.meta"
   ]
  },
  {
   "cell_type": "code",
   "execution_count": null,
   "metadata": {
    "slideshow": {
     "slide_type": "slide"
    }
   },
   "outputs": [],
   "source": [
    "arr = world.read()\n",
    "\n",
    "red = arr[0, ...]"
   ]
  },
  {
   "cell_type": "code",
   "execution_count": null,
   "metadata": {
    "slideshow": {
     "slide_type": "slide"
    }
   },
   "outputs": [],
   "source": [
    "import cartopy\n",
    "import cartopy.crs as ccrs\n",
    "\n",
    "fig, ax = plt.subplots(\n",
    "    figsize=(12, 10),\n",
    "    subplot_kw={'projection': ccrs.InterruptedGoodeHomolosine()})\n",
    "ax.set_global()\n",
    "ax.imshow(red, origin='upper', transform=ccrs.PlateCarree(),\n",
    "          interpolation=None)\n",
    "ax.coastlines()\n",
    "ax.add_feature(cartopy.feature.BORDERS);"
   ]
  },
  {
   "cell_type": "markdown",
   "metadata": {
    "slideshow": {
     "slide_type": "slide"
    }
   },
   "source": [
    "### Load really big datasets raster with xarray"
   ]
  },
  {
   "cell_type": "code",
   "execution_count": null,
   "metadata": {
    "slideshow": {
     "slide_type": "skip"
    }
   },
   "outputs": [],
   "source": [
    "def size(array):\n",
    "    nbytes = array.nbytes\n",
    "    if nbytes < (1 << 10):\n",
    "        size = f'{nbytes} B'\n",
    "    elif nbytes < (1 << 20):\n",
    "        size = f'{nbytes / (1 << 10):.02f} KiB'\n",
    "    elif nbytes < (1 << 30):\n",
    "        size = f'{nbytes / (1 << 20):.02f} MiB'\n",
    "    elif nbytes < (1 << 40):\n",
    "        size = f'{nbytes / (1 << 30):.02f} GiB'\n",
    "    else:\n",
    "        size = f'{nbytes / (1 << 40):.02f} TiB'\n",
    "    return size"
   ]
  },
  {
   "cell_type": "code",
   "execution_count": null,
   "metadata": {
    "slideshow": {
     "slide_type": "slide"
    }
   },
   "outputs": [],
   "source": [
    "%%time\n",
    "\n",
    "import xarray as xr\n",
    "\n",
    "\n",
    "url = ('https://rsignell.s3.amazonaws.com/NLCD/'\n",
    "       'nlcd_2011_landcover_2011_edition_2014_10_10.tif')\n",
    "\n",
    "da = xr.open_rasterio(url, chunks={'x':256, 'y':256})\n",
    "\n",
    "print(f'{size(da)}\\n')"
   ]
  },
  {
   "cell_type": "code",
   "execution_count": null,
   "metadata": {
    "slideshow": {
     "slide_type": "slide"
    }
   },
   "outputs": [],
   "source": [
    "print(da.crs)"
   ]
  },
  {
   "cell_type": "code",
   "execution_count": null,
   "metadata": {
    "slideshow": {
     "slide_type": "slide"
    }
   },
   "outputs": [],
   "source": [
    "# subset\n",
    "# top left corner of region of interest\n",
    "e0, n0 = -93030, 1809990\n",
    "\n",
    "# size of region in meters\n",
    "xsize, ysize = 30000, 30000\n",
    "e1 = e0 + xsize\n",
    "n1 = n0 - ysize\n",
    "\n",
    "subset = da[0, ...].sel(x=slice(e0, e1), y=slice(n0, n1))"
   ]
  },
  {
   "cell_type": "code",
   "execution_count": null,
   "metadata": {
    "slideshow": {
     "slide_type": "slide"
    }
   },
   "outputs": [],
   "source": [
    "subset"
   ]
  },
  {
   "cell_type": "code",
   "execution_count": null,
   "metadata": {
    "slideshow": {
     "slide_type": "slide"
    }
   },
   "outputs": [],
   "source": [
    "import numpy as np\n",
    "from rasterio.warp import transform\n",
    "\n",
    "\n",
    "nx, ny = len(subset['x']), len(subset['y'])\n",
    "x, y = np.meshgrid(subset['x'], subset['y'])"
   ]
  },
  {
   "cell_type": "code",
   "execution_count": null,
   "metadata": {
    "slideshow": {
     "slide_type": "slide"
    }
   },
   "outputs": [],
   "source": [
    "lon, lat = transform(\n",
    "    da.crs,\n",
    "    {'init': 'EPSG:4326'},\n",
    "    x.flatten(), y.flatten()\n",
    ")\n",
    "\n",
    "lon = np.asarray(lon).reshape((ny, nx))\n",
    "lat = np.asarray(lat).reshape((ny, nx))\n",
    "subset.coords['lon'] = (('y', 'x'), lon)\n",
    "subset.coords['lat'] = (('y', 'x'), lat)"
   ]
  },
  {
   "cell_type": "code",
   "execution_count": null,
   "metadata": {
    "scrolled": false,
    "slideshow": {
     "slide_type": "slide"
    }
   },
   "outputs": [],
   "source": [
    "%%time\n",
    "fig, ax = plt.subplots(figsize=(10, 10),\n",
    "                       subplot_kw={'projection': ccrs.PlateCarree()})\n",
    "# The data will be downloaded only at this step!\n",
    "subset.plot(ax=ax, x='lon', y='lat', transform=ccrs.PlateCarree(),\n",
    "            add_colorbar=False)\n",
    "gl = ax.gridlines(draw_labels=True)\n",
    "gl.xlabels_top = gl.ylabels_right = False"
   ]
  },
  {
   "cell_type": "code",
   "execution_count": null,
   "metadata": {
    "slideshow": {
     "slide_type": "slide"
    }
   },
   "outputs": [],
   "source": [
    "import folium.plugins\n",
    "\n",
    "\n",
    "m = folium.Map([37, 0], zoom_start=1, tiles='stamentoner')\n",
    "\n",
    "bounds = [[lat.min(), lon.min()], [lat.max(), lon.max()]]\n",
    "\n",
    "folium.plugins.ImageOverlay(\n",
    "    np.array(subset.data),\n",
    "    bounds=bounds,\n",
    "    opacity=0.35,\n",
    ").add_to(m)\n",
    "m.fit_bounds(m.get_bounds())"
   ]
  },
  {
   "cell_type": "code",
   "execution_count": null,
   "metadata": {
    "slideshow": {
     "slide_type": "slide"
    }
   },
   "outputs": [],
   "source": [
    "m"
   ]
  },
  {
   "cell_type": "markdown",
   "metadata": {
    "slideshow": {
     "slide_type": "slide"
    }
   },
   "source": [
    "# Putting it all together\n",
    "\n",
    "\n",
    "[http://ioos.github.io/notebooks_demos/code_gallery](http://ioos.github.io/notebooks_demos/code_gallery)\n",
    "\n",
    "[Hurricane Irma example](http://ioos.github.io/notebooks_demos/notebooks/2017-09-09-hurricane_irma/)"
   ]
  }
 ],
 "metadata": {
  "celltoolbar": "Slideshow",
  "kernelspec": {
   "display_name": "Python 3",
   "language": "python",
   "name": "python3"
  },
  "language_info": {
   "codemirror_mode": {
    "name": "ipython",
    "version": 3
   },
   "file_extension": ".py",
   "mimetype": "text/x-python",
   "name": "python",
   "nbconvert_exporter": "python",
   "pygments_lexer": "ipython3",
   "version": "3.6.6"
  },
  "livereveal": {
   "auto_select": "none",
   "autolaunch": "true",
   "footer": " ",
   "header": "<script src='/files/static/theme/reveal.js'></script>",
   "start_slideshow_at": "selected"
  }
 },
 "nbformat": 4,
 "nbformat_minor": 2
}
