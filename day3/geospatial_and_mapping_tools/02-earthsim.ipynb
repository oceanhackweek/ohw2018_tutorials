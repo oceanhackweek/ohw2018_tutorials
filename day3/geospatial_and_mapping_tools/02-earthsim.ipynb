{
 "cells": [
  {
   "cell_type": "code",
   "execution_count": null,
   "metadata": {
    "slideshow": {
     "slide_type": "skip"
    }
   },
   "outputs": [],
   "source": [
    "import warnings\n",
    "warnings.simplefilter('ignore')"
   ]
  },
  {
   "cell_type": "markdown",
   "metadata": {
    "slideshow": {
     "slide_type": "slide"
    }
   },
   "source": [
    "# EarthSim: easy two-way map interactions"
   ]
  },
  {
   "cell_type": "code",
   "execution_count": null,
   "metadata": {
    "slideshow": {
     "slide_type": "fragment"
    }
   },
   "outputs": [],
   "source": [
    "import geoviews as gv\n",
    "import holoviews as hv\n",
    "import cartopy.crs as ccrs\n",
    "\n",
    "from holoviews.streams import PointDraw, PolyEdit, BoxEdit, PolyDraw\n",
    "\n",
    "url = 'http://c.tile.openstreetmap.org/{Z}/{X}/{Y}.png'\n",
    "dx = dy = 1\n",
    "lat, lon = 47.60, -122.33\n",
    "extents = lon-dx, lat-dy, lon+dx, lat+dy\n",
    "\n",
    "tiles = gv.WMTS(url, extents=extents, crs=ccrs.PlateCarree())\n",
    "\n",
    "hv.extension('bokeh')"
   ]
  },
  {
   "cell_type": "markdown",
   "metadata": {
    "slideshow": {
     "slide_type": "slide"
    }
   },
   "source": [
    "### Drawing Points\n",
    "\n",
    "- Add point: click to add\n",
    "- Move point: drag an existing point\n",
    "- Delete point: select and press the backspace/delete"
   ]
  },
  {
   "cell_type": "code",
   "execution_count": null,
   "metadata": {
    "slideshow": {
     "slide_type": "slide"
    }
   },
   "outputs": [],
   "source": [
    "%%opts Points [width=750 height=500 tools=['hover']]\n",
    "%%opts Points (size=10 color='red')\n",
    "\n",
    "points = gv.Points([[-13616490, 6039761]], crs=ccrs.GOOGLE_MERCATOR)\n",
    "point_stream = PointDraw(source=points)\n",
    "\n",
    "tiles * points"
   ]
  },
  {
   "cell_type": "code",
   "execution_count": null,
   "metadata": {
    "slideshow": {
     "slide_type": "slide"
    }
   },
   "outputs": [],
   "source": [
    "if point_stream.data:\n",
    "    projected = gv.operation.project_points(point_stream.element, projection=ccrs.PlateCarree())\n",
    "    display(projected.dframe())"
   ]
  },
  {
   "cell_type": "markdown",
   "metadata": {
    "slideshow": {
     "slide_type": "slide"
    }
   },
   "source": [
    "### Drawing bounding boxes\n",
    "\n",
    "- Add box: hold shift, click and drag\n",
    "- Move box: click and drag an existing box\n",
    "- Delete box: click and press the backspace/delete"
   ]
  },
  {
   "cell_type": "code",
   "execution_count": null,
   "metadata": {
    "scrolled": false,
    "slideshow": {
     "slide_type": "slide"
    }
   },
   "outputs": [],
   "source": [
    "%%opts Polygons [width=750 height=500] \n",
    "%%opts Polygons (fill_alpha=0 line_color='black' selection_fill_color='red' line_width=5)\n",
    "\n",
    "sample_box = [[-13873713, 5925064], [-13873713, 6348504],\n",
    "              [-13461934, 6348504], [-13461934, 5925064],]\n",
    "\n",
    "box_poly = gv.Polygons([sample_box], crs=ccrs.GOOGLE_MERCATOR)\n",
    "box_stream = BoxEdit(source=box_poly)\n",
    "tiles * box_poly"
   ]
  },
  {
   "cell_type": "code",
   "execution_count": null,
   "metadata": {
    "slideshow": {
     "slide_type": "slide"
    }
   },
   "outputs": [],
   "source": [
    "def bbox(poly):\n",
    "    'Convert the polygon returned by the BoxEdit stream into a bounding box tuple'\n",
    "    xs,ys = poly.array().T\n",
    "    return (xs[0], ys[0], xs[2], ys[2])\n",
    "\n",
    "if box_stream.element:\n",
    "    polygons = gv.operation.project_path(box_stream.element, \n",
    "                                         projection=ccrs.PlateCarree()).split()\n",
    "    bboxes = [bbox(p) for p in polygons]\n",
    "    print(bboxes)"
   ]
  },
  {
   "cell_type": "markdown",
   "metadata": {
    "slideshow": {
     "slide_type": "slide"
    }
   },
   "source": [
    "### Drawing Polygons\n",
    "\n",
    "- Add patch/multi-line: double click to add the first vertex, then use tap to add each subsequent vertex. To finalize the draw action, double tap to insert the final vertex or press the ESC key to stop drawing.\n",
    "- Move patch/multi-line: drag an existing object\n",
    "- Delete: select and press backspace/delete"
   ]
  },
  {
   "cell_type": "code",
   "execution_count": null,
   "metadata": {
    "slideshow": {
     "slide_type": "slide"
    }
   },
   "outputs": [],
   "source": [
    "%%opts Polygons [width=750 height=500] (fill_alpha=0.1 line_color='black') \n",
    "%%opts Path (line_width=5 color='black')\n",
    "\n",
    "sample_poly = {\n",
    "    'Longitude': [-13873713, -13461934, -13873713],\n",
    "    'Latitude': [6348504, 5925064, 5925064],\n",
    "}\n",
    "new_polys = gv.Polygons([sample_poly], crs=ccrs.GOOGLE_MERCATOR)\n",
    "poly_stream = PolyDraw(source=new_polys)\n",
    "\n",
    "sample_path = {\n",
    "    'Longitude': [-13873713, -13461934],\n",
    "    'Latitude': [6348504, 5925064],\n",
    "}\n",
    "\n",
    "new_paths = gv.Path([sample_path], crs=ccrs.GOOGLE_MERCATOR)\n",
    "path_stream = PolyDraw(source=new_paths)\n",
    "\n",
    "tiles * new_polys * new_paths"
   ]
  },
  {
   "cell_type": "markdown",
   "metadata": {
    "slideshow": {
     "slide_type": "slide"
    }
   },
   "source": [
    "### Polygon Editing\n",
    "\n",
    "- Show vertices: double click an existing object\n",
    "- Add vertex: click an existing vertex, then the tool will draw the next point; to add it tap in a new location. To finish editing and add a point, double tap; otherwise press the ESC key to cancel.\n",
    "- Move vertex: drag an existing vertex\n",
    "- Delete vertex: selecting press backspace/delete"
   ]
  },
  {
   "cell_type": "code",
   "execution_count": null,
   "metadata": {
    "slideshow": {
     "slide_type": "slide"
    }
   },
   "outputs": [],
   "source": [
    "from pathlib import Path\n",
    "\n",
    "path = Path('data')\n",
    "shapefile = str(path.joinpath('model_grid', 'grid.shp'))"
   ]
  },
  {
   "cell_type": "code",
   "execution_count": null,
   "metadata": {
    "slideshow": {
     "slide_type": "slide"
    }
   },
   "outputs": [],
   "source": [
    "%%opts Shape [width=750 height=500 tools=['box_select']] (alpha=0.5)\n",
    "\n",
    "\n",
    "mask_shape = gv.Shape.from_shapefile(shapefile)[0]\n",
    "vertex_stream = PolyEdit(source=mask_shape)\n",
    "tiles * mask_shape"
   ]
  },
  {
   "cell_type": "markdown",
   "metadata": {
    "slideshow": {
     "slide_type": "slide"
    }
   },
   "source": [
    "### For more information:\n",
    "\n",
    "[http://earthsim.pyviz.org/index.html](http://earthsim.pyviz.org/index.html)"
   ]
  }
 ],
 "metadata": {
  "celltoolbar": "Slideshow",
  "kernelspec": {
   "display_name": "Python 3",
   "language": "python",
   "name": "python3"
  },
  "language_info": {
   "codemirror_mode": {
    "name": "ipython",
    "version": 3
   },
   "file_extension": ".py",
   "mimetype": "text/x-python",
   "name": "python",
   "nbconvert_exporter": "python",
   "pygments_lexer": "ipython3",
   "version": "3.6.6"
  },
  "livereveal": {
   "auto_select": "none",
   "autolaunch": "true",
   "footer": " ",
   "header": "<script src='static/theme/reveal.js'></script>",
   "start_slideshow_at": "selected"
  }
 },
 "nbformat": 4,
 "nbformat_minor": 2
}
