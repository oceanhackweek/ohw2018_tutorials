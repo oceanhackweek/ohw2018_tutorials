{
 "cells": [
  {
   "cell_type": "code",
   "execution_count": null,
   "metadata": {
    "slideshow": {
     "slide_type": "slide"
    },
    "tags": [
     "hide"
    ]
   },
   "outputs": [],
   "source": [
    "# This notebook copies files from AWS S3 buckets to /home/jovyan/data (i.e. local to the Jupyter workspace).\n",
    "#   This *should* be done using the 'boto3' library which is not the same thing as its predecessor, the 'boto' \n",
    "#   library. So at the moment we are anachronistic because 'boto' is deprecated in favor of boto3. \n",
    "#\n",
    "# Here is what Stack Overflow has to say: \n",
    "#\n",
    "# The boto package is the hand-coded Python library that has been around \n",
    "# since 2006. It is very popular and is fully supported by AWS but because \n",
    "# it is hand-coded and there are so many services available (with more \n",
    "# appearing all the time) it is difficult to maintain.\n",
    "#\n",
    "# So, boto3 is a new version of the boto library based on botocore. All \n",
    "# of the low-level interfaces to AWS are driven from JSON service descriptions \n",
    "# that are generated automatically from the canonical descriptions of the services. \n",
    "# So, the interfaces are always correct and always up to date. There is a \n",
    "# resource layer on top of the client-layer that provides a nicer, more Pythonic interface.\n",
    "#\n",
    "# The boto3 library is being actively developed by AWS and is the one I would \n",
    "# recommend people use if they are starting new development."
   ]
  },
  {
   "cell_type": "code",
   "execution_count": 5,
   "metadata": {
    "slideshow": {
     "slide_type": "slide"
    },
    "tags": [
     "hide"
    ]
   },
   "outputs": [
    {
     "name": "stdout",
     "output_type": "stream",
     "text": [
      "CPU times: user 3 µs, sys: 0 ns, total: 3 µs\n",
      "Wall time: 6.44 µs\n"
     ]
    }
   ],
   "source": [
    "# Don't run unless you want to grab glodap files from S3\n",
    "# This may take a couple minutes to run\n",
    "\n",
    "import boto\n",
    "\n",
    "data_dir = '/home/jovyan/data/glodap/'\n",
    "local_salinity_filename = data_dir + 'glodap_salinity.nc'\n",
    "local_temperature_filename = data_dir + 'glodap_temperature.nc'\n",
    "local_oxygen_filename = data_dir + 'glodap_oxygen.nc'\n",
    "\n",
    "connection = boto.connect_s3(anon=True)\n",
    "bucket = connection.get_bucket('himatdata')\n",
    "for key in bucket.list():\n",
    "    keyname = str(key.name.encode('utf-8'))\n",
    "    if 'glodap/' in keyname and 'salinity' in keyname: key.get_contents_to_filename(local_salinity_filename)\n",
    "    elif 'glodap/' in keyname and 'temperature' in keyname: key.get_contents_to_filename(local_temperature_filename)\n",
    "    elif 'glodap/' in keyname and 'oxygen' in keyname: key.get_contents_to_filename(local_oxygen_filename)"
   ]
  },
  {
   "cell_type": "code",
   "execution_count": 7,
   "metadata": {
    "slideshow": {
     "slide_type": "slide"
    },
    "tags": [
     "hide"
    ]
   },
   "outputs": [
    {
     "name": "stdout",
     "output_type": "stream",
     "text": [
      "CPU times: user 3 µs, sys: 1e+03 ns, total: 4 µs\n",
      "Wall time: 6.44 µs\n"
     ]
    }
   ],
   "source": [
    "# Don't run unless you want to grab a set of nine ARGO profile netcdf files (9 ARGO platforms (drifters (floats)))\n",
    "# f = ...strip strip strip strip is due to possible irregularities in the string cast of the key name\n",
    "# This may take a couple minutes to run\n",
    "\n",
    "import boto\n",
    "data_dir = '/home/jovyan/data/glodap/'\n",
    "connection = boto.connect_s3(anon=True)\n",
    "bucket = connection.get_bucket('himatdata')\n",
    "for key in bucket.list(): \n",
    "    keyname = str(key.name.encode('utf-8'))\n",
    "    f = keyname.strip(\"b'\").strip('b\"').strip('\"').strip(\"'\")\n",
    "    if 'argo-profiles' in keyname: \n",
    "        ff = '/home/jovyan/data/' + f\n",
    "        key.get_contents_to_filename(ff)\n"
   ]
  },
  {
   "cell_type": "code",
   "execution_count": 8,
   "metadata": {
    "slideshow": {
     "slide_type": "slide"
    },
    "tags": [
     "hide"
    ]
   },
   "outputs": [
    {
     "name": "stdout",
     "output_type": "stream",
     "text": [
      "CPU times: user 2 µs, sys: 1e+03 ns, total: 3 µs\n",
      "Wall time: 6.91 µs\n"
     ]
    }
   ],
   "source": [
    "# Don't run unless you want to grab a large (800MB) tar file from S3 bucket 'oceanhackweek' to the local directory\n",
    "# This contains a bunch of different sub-dirs and data files as it un-tars into the 'data' directory.\n",
    "# This takes less than a minute to run.\n",
    "\n",
    "import boto\n",
    "f = '/home/jovyan/data.tar'\n",
    "connection = boto.connect_s3(anon=True)\n",
    "bucket = connection.get_bucket('oceanhackweek')\n",
    "for key in bucket.list(): \n",
    "    keyname = str(key.name.encode('utf-8'))\n",
    "    if 'data.tar' in keyname: key.get_contents_to_filename(f)"
   ]
  }
 ],
 "metadata": {
  "kernelspec": {
   "display_name": "Python 3",
   "language": "python",
   "name": "python3"
  },
  "language_info": {
   "codemirror_mode": {
    "name": "ipython",
    "version": 3
   },
   "file_extension": ".py",
   "mimetype": "text/x-python",
   "name": "python",
   "nbconvert_exporter": "python",
   "pygments_lexer": "ipython3",
   "version": "3.6.5"
  }
 },
 "nbformat": 4,
 "nbformat_minor": 2
}
