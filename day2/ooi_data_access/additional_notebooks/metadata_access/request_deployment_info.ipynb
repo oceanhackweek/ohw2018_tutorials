{
 "cells": [
  {
   "cell_type": "markdown",
   "metadata": {},
   "source": [
    "## Requesting Instrument Asset Information\n",
    "\n",
    "In this brief demo you will learn:\n",
    "\n",
    "* how to request asset information for an instrument, such as deployment start and end dates, lat, lon and depth\n",
    "\n",
    "Below we have entered credential for a default user. These should work, unless they have been reset.  \n",
    "Alternatively, you can login in at https://ooinet.oceanobservatories.org/ and obtain a API username and API token under your profile (top right corner)."
   ]
  },
  {
   "cell_type": "code",
   "execution_count": 1,
   "metadata": {},
   "outputs": [],
   "source": [
    "username = 'OOIAPI-D8S960UXPK4K03'\n",
    "token = 'IXL48EQ2XY'"
   ]
  },
  {
   "cell_type": "markdown",
   "metadata": {},
   "source": [
    "### Pulling asset information into your notebook.\n",
    "\n",
    "The ingredients being used to build the asset_info_url can be found here. For this example, we will pull in the asset information for the CTD at the Axial Shallow Profiler http://ooi.visualocean.net/instruments/view/RS03AXPS-PC03A-4A-CTDPFA303"
   ]
  },
  {
   "cell_type": "code",
   "execution_count": 3,
   "metadata": {},
   "outputs": [],
   "source": [
    "import requests\n",
    "import datetime\n",
    "import pandas as pd"
   ]
  },
  {
   "cell_type": "code",
   "execution_count": 4,
   "metadata": {},
   "outputs": [],
   "source": [
    "subsite = 'RS03AXPS'\n",
    "node = 'PC03A'\n",
    "sensor = '4A-CTDPFA303'"
   ]
  },
  {
   "cell_type": "markdown",
   "metadata": {},
   "source": [
    "Now let's build the asset_info_url and request the information"
   ]
  },
  {
   "cell_type": "code",
   "execution_count": 5,
   "metadata": {},
   "outputs": [],
   "source": [
    "base_url = 'https://ooinet.oceanobservatories.org/api/m2m/12587/events/deployment/inv/'\n",
    "\n",
    "asset_info_url ='/'.join((base_url, subsite, node, sensor, '-1'))\n",
    "\n",
    "r = requests.get(asset_info_url,auth=(username, token))\n",
    "asset_info = r.json()"
   ]
  },
  {
   "cell_type": "code",
   "execution_count": 6,
   "metadata": {},
   "outputs": [
    {
     "data": {
      "text/plain": [
       "{'depth': 190.0,\n",
       " 'location': [-129.75341, 45.8305],\n",
       " 'latitude': 45.8305,\n",
       " 'longitude': -129.75341,\n",
       " 'orbitRadius': None}"
      ]
     },
     "execution_count": 6,
     "metadata": {},
     "output_type": "execute_result"
    }
   ],
   "source": [
    "asset_info[0]['location']"
   ]
  },
  {
   "cell_type": "markdown",
   "metadata": {},
   "source": [
    "Similar to an synchronous json data request, the asset information is returned as a list of json object. In the following example we will pull out the sart and end time for each deployment of this asset."
   ]
  },
  {
   "cell_type": "code",
   "execution_count": 8,
   "metadata": {},
   "outputs": [
    {
     "data": {
      "text/html": [
       "<div>\n",
       "<style scoped>\n",
       "    .dataframe tbody tr th:only-of-type {\n",
       "        vertical-align: middle;\n",
       "    }\n",
       "\n",
       "    .dataframe tbody tr th {\n",
       "        vertical-align: top;\n",
       "    }\n",
       "\n",
       "    .dataframe thead th {\n",
       "        text-align: right;\n",
       "    }\n",
       "</style>\n",
       "<table border=\"1\" class=\"dataframe\">\n",
       "  <thead>\n",
       "    <tr style=\"text-align: right;\">\n",
       "      <th></th>\n",
       "      <th>refdes</th>\n",
       "      <th>deployment</th>\n",
       "      <th>start_time</th>\n",
       "      <th>end_time</th>\n",
       "    </tr>\n",
       "  </thead>\n",
       "  <tbody>\n",
       "    <tr>\n",
       "      <th>0</th>\n",
       "      <td>RS03AXPS-PC03A-4A-CTDPFA303</td>\n",
       "      <td>1</td>\n",
       "      <td>2014-09-27 13:29:00</td>\n",
       "      <td>2015-07-09 00:00:00.000000</td>\n",
       "    </tr>\n",
       "    <tr>\n",
       "      <th>1</th>\n",
       "      <td>RS03AXPS-PC03A-4A-CTDPFA303</td>\n",
       "      <td>2</td>\n",
       "      <td>2015-07-09 00:07:00</td>\n",
       "      <td>2016-07-14 00:00:00.000000</td>\n",
       "    </tr>\n",
       "    <tr>\n",
       "      <th>2</th>\n",
       "      <td>RS03AXPS-PC03A-4A-CTDPFA303</td>\n",
       "      <td>3</td>\n",
       "      <td>2016-07-14 21:18:00</td>\n",
       "      <td>2017-07-30 14:00:00.000000</td>\n",
       "    </tr>\n",
       "    <tr>\n",
       "      <th>3</th>\n",
       "      <td>RS03AXPS-PC03A-4A-CTDPFA303</td>\n",
       "      <td>4</td>\n",
       "      <td>2017-07-31 04:00:00</td>\n",
       "      <td>2018-04-25 23:17:41.610199</td>\n",
       "    </tr>\n",
       "  </tbody>\n",
       "</table>\n",
       "</div>"
      ],
      "text/plain": [
       "                        refdes  deployment          start_time  \\\n",
       "0  RS03AXPS-PC03A-4A-CTDPFA303           1 2014-09-27 13:29:00   \n",
       "1  RS03AXPS-PC03A-4A-CTDPFA303           2 2015-07-09 00:07:00   \n",
       "2  RS03AXPS-PC03A-4A-CTDPFA303           3 2016-07-14 21:18:00   \n",
       "3  RS03AXPS-PC03A-4A-CTDPFA303           4 2017-07-31 04:00:00   \n",
       "\n",
       "                    end_time  \n",
       "0 2015-07-09 00:00:00.000000  \n",
       "1 2016-07-14 00:00:00.000000  \n",
       "2 2017-07-30 14:00:00.000000  \n",
       "3 2018-04-25 23:17:41.610199  "
      ]
     },
     "execution_count": 8,
     "metadata": {},
     "output_type": "execute_result"
    }
   ],
   "source": [
    "ref_des_list = []\n",
    "start_time_list = []\n",
    "end_time_list = []\n",
    "deployment_list = []\n",
    "depth_list = []\n",
    "lat_list = [] \n",
    "lon_list = [] \n",
    "\n",
    "for i in range(len(asset_info)):\n",
    "    refdes = asset_info[i]['referenceDesignator']\n",
    "    ref_des_list.append(refdes)\n",
    "\n",
    "    deployment = asset_info[i]['deploymentNumber']\n",
    "    deployment_list.append(deployment)\n",
    "\n",
    "    start = asset_info[i]['eventStartTime']\n",
    "    end = asset_info[i]['eventStopTime']\n",
    "\n",
    "    try:\n",
    "        start_time = datetime.datetime.utcfromtimestamp(start/1000.0)\n",
    "        start_time_list.append(start_time)\n",
    "\n",
    "        end_time = datetime.datetime.utcfromtimestamp(end/1000.0)\n",
    "        end_time_list.append(end_time)\n",
    "\n",
    "    except:\n",
    "        end_time = datetime.datetime.utcnow()\n",
    "        end_time_list.append(end_time)\n",
    "        \n",
    "    depth = asset_info[i]['location']['depth']\n",
    "    depth_list.append(depth)\n",
    "    lat = asset_info[i]['location']['latitude']\n",
    "    lat_list.append(lat)\n",
    "    lon = asset_info[i]['location']['longitude']\n",
    "    lon_list.append(lon)\n",
    "    \n",
    "\n",
    "data_dict = {\n",
    "    'refdes':ref_des_list,\n",
    "    'deployment':deployment_list,\n",
    "    'start_time':start_time_list,\n",
    "    'end_time':end_time_list,\n",
    "    'depth': depth_list,\n",
    "    'latitutde':lat_list,\n",
    "    'longitude':lon_list}\n",
    "\n",
    "deployment_data = pd.DataFrame(data_dict, columns = ['refdes', 'deployment','start_time', 'end_time'])\n",
    "\n",
    "deployment_data"
   ]
  },
  {
   "cell_type": "code",
   "execution_count": null,
   "metadata": {},
   "outputs": [],
   "source": []
  }
 ],
 "metadata": {
  "kernelspec": {
   "display_name": "ooi",
   "language": "python",
   "name": "ooi"
  },
  "language_info": {
   "codemirror_mode": {
    "name": "ipython",
    "version": 3
   },
   "file_extension": ".py",
   "mimetype": "text/x-python",
   "name": "python",
   "nbconvert_exporter": "python",
   "pygments_lexer": "ipython3",
   "version": "3.6.5"
  }
 },
 "nbformat": 4,
 "nbformat_minor": 2
}
