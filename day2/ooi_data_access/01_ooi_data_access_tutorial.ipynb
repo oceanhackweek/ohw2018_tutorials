{
 "cells": [
  {
   "cell_type": "markdown",
   "metadata": {
    "slideshow": {
     "slide_type": ""
    }
   },
   "source": [
    "## OOI NetCDF Data Access Part 1\n",
    "\n",
    "You will learn:\n",
    "\n",
    "* how to navigate the OOI dataset\n",
    "* how to request data through the OOI M2M API\n",
    "* how to find and navigate your personal THREDDS server directory"
   ]
  },
  {
   "cell_type": "markdown",
   "metadata": {},
   "source": [
    "### Navigating the OOI Dataset\n",
    "In this example we show how to programatically download and work with OOI NetCDF time series data. We will use data from the Global Argentine Basin Flanking Subsurface Mooring A Mooring Riser CTD at 30 m. \n",
    "\n",
    "You will need the Reference Designator, Stream and Data Delivery Method to make the request to the M2M API, as seen in the screenshot highlighted below. These, along with additional useful information about the instrument, can be found here: http://ooi.visualocean.net/instruments/view/GA03FLMA-RIM01-02-CTDMOG040\n",
    "\n",
    "![GA03FLMA-RIM01-02-CTDMOG040](images/GA03FLMA-RIM01-02-CTDMOG040.png)\n",
    "\n",
    "More information:\n",
    "\n",
    "[Instrument Pages](https://oceanobservatories.org/instruments/) Descriptions and documentation about OOI instrumentation  \n",
    "[How to decipher a Reference Designator](https://oceanobservatories.org/knowledgebase/how-to-decipher-a-reference-designator)  Knowledge base entry further breaking down Reference Designators  \n",
    "[Understanding Data Streams and Parameters](https://oceanobservatories.org/knowledgebase/understanding-data-streams-and-parameters/)  Knowledge base entry on Streams and Parameters."
   ]
  },
  {
   "cell_type": "markdown",
   "metadata": {},
   "source": [
    "### Requesting data through the OOI M2M API\n",
    "\n",
    "A typical M2M data request URL looks like this:\n",
    "\n",
    "https://ooinet.oceanobservatories.org/api/m2m/12576/sensor/inv/GA03FLMA/RIM01/02-CTDMOG040/recovered_inst/ctdmo_ghqr_instrument_recovered?beginDT=2015-03-17T01:01:01.500Z&endDT=2018-09-01T01:01:01.500Z\n",
    "\n",
    "Let's break it down:\n",
    "\n",
    "* Base URL: https://ooinet.oceanobservatories.org/api/m2m/12576/sensor/inv\n",
    "* Reference Designator: GA03FLMA/RIM01/02-CTDMOG040\n",
    "* Data Delivery Method: recovered_inst\n",
    "* Stream Name: ctdmo_ghqr_instrument_recovered\n",
    "* Time Range: beginDT=2015-03-17T01:01:01.500Z&endDT=2018-09-01T01:01:01.500Z\n",
    "\n"
   ]
  },
  {
   "cell_type": "code",
   "execution_count": 7,
   "metadata": {},
   "outputs": [],
   "source": [
    "import requests\n",
    "import time"
   ]
  },
  {
   "cell_type": "markdown",
   "metadata": {},
   "source": [
    "Login in at https://ooinet.oceanobservatories.org/ and obtain your <b>API username</b> and <b>API token</b> under your profile (top right corner) or use credentials provided below for now. \n",
    "\n",
    "If you use your personal login, you will generate a personal THREDDS directory hosting only the data you request."
   ]
  },
  {
   "cell_type": "code",
   "execution_count": 8,
   "metadata": {},
   "outputs": [],
   "source": [
    "username = 'OOIAPI-D8S960UXPK4K03'\n",
    "token = 'IXL48EQ2XY'"
   ]
  },
  {
   "cell_type": "markdown",
   "metadata": {},
   "source": [
    "Specify your inputs."
   ]
  },
  {
   "cell_type": "code",
   "execution_count": 9,
   "metadata": {},
   "outputs": [],
   "source": [
    "refdes = 'GA03FLMA-RIM01-02-CTDMOG040'\n",
    "method = 'recovered_inst'\n",
    "stream = 'ctdmo_ghqr_instrument_recovered'\n",
    "beginDT = '2015-03-17T01:01:01.500Z' # this time range encompasses all three deployments of this instrument.\n",
    "endDT = '2018-09-01T01:01:01.500Z'"
   ]
  },
  {
   "cell_type": "markdown",
   "metadata": {},
   "source": [
    "Build the GET request URL and send the request to the M2M API endpoint."
   ]
  },
  {
   "cell_type": "code",
   "execution_count": 27,
   "metadata": {},
   "outputs": [],
   "source": [
    "base_url = 'https://ooinet.oceanobservatories.org/api/m2m/12576/sensor/inv'\n",
    "\n",
    "data_request_url ='/'.join((base_url,refdes[:8],refdes[9:14],refdes[15:],method,stream))\n",
    "params = {\n",
    "    'beginDT':beginDT,\n",
    "    'endDT':endDT,   \n",
    "}\n",
    "r = requests.get(data_request_url, params=params, auth=(username, token))\n",
    "data = r.json()"
   ]
  },
  {
   "cell_type": "markdown",
   "metadata": {},
   "source": [
    "Examine the response."
   ]
  },
  {
   "cell_type": "code",
   "execution_count": 34,
   "metadata": {},
   "outputs": [
    {
     "name": "stdout",
     "output_type": "stream",
     "text": [
      "{\n",
      "  \"requestUUID\": \"df90cd81-3bef-43f4-905c-4e25359f93a3\",\n",
      "  \"outputURL\": \"https://opendap.oceanobservatories.org/thredds/catalog/ooi/ooidatateam@gmail.com/20180814T230912-GA03FLMA-RIM01-02-CTDMOG040-recovered_inst-ctdmo_ghqr_instrument_recovered/catalog.html\",\n",
      "  \"allURLs\": [\n",
      "    \"https://opendap.oceanobservatories.org/thredds/catalog/ooi/ooidatateam@gmail.com/20180814T230912-GA03FLMA-RIM01-02-CTDMOG040-recovered_inst-ctdmo_ghqr_instrument_recovered/catalog.html\",\n",
      "    \"https://opendap.oceanobservatories.org/async_results/ooidatateam@gmail.com/20180814T230912-GA03FLMA-RIM01-02-CTDMOG040-recovered_inst-ctdmo_ghqr_instrument_recovered\"\n",
      "  ],\n",
      "  \"sizeCalculation\": 6207148,\n",
      "  \"timeCalculation\": 60,\n",
      "  \"numberOfSubJobs\": 38\n",
      "}\n"
     ]
    }
   ],
   "source": [
    "import json\n",
    "print(json.dumps(data, indent=2))"
   ]
  },
  {
   "cell_type": "markdown",
   "metadata": {},
   "source": [
    "Notice that the timeCalculation key is attempting to give you a rough estimate of how long it will take to fulfill your data request."
   ]
  },
  {
   "cell_type": "markdown",
   "metadata": {},
   "source": [
    "### Navigating your THREDDS directory."
   ]
  },
  {
   "cell_type": "markdown",
   "metadata": {},
   "source": [
    "Check if the request has completed."
   ]
  },
  {
   "cell_type": "code",
   "execution_count": 40,
   "metadata": {},
   "outputs": [
    {
     "name": "stdout",
     "output_type": "stream",
     "text": [
      "request completed\n",
      "CPU times: user 19.7 ms, sys: 2.33 ms, total: 22 ms\n",
      "Wall time: 358 ms\n"
     ]
    }
   ],
   "source": [
    "%%time\n",
    "check_complete = data['allURLs'][1] + '/status.txt'\n",
    "for i in range(1800): \n",
    "    r = requests.get(check_complete)\n",
    "    if r.status_code == requests.codes.ok:\n",
    "        print('request completed')\n",
    "        break\n",
    "    else:\n",
    "        time.sleep(1)"
   ]
  },
  {
   "cell_type": "markdown",
   "metadata": {},
   "source": [
    "Check out the THREDDS directory."
   ]
  },
  {
   "cell_type": "code",
   "execution_count": 41,
   "metadata": {},
   "outputs": [
    {
     "data": {
      "text/plain": [
       "'https://opendap.oceanobservatories.org/thredds/catalog/ooi/ooidatateam@gmail.com/20180814T230912-GA03FLMA-RIM01-02-CTDMOG040-recovered_inst-ctdmo_ghqr_instrument_recovered/catalog.html'"
      ]
     },
     "execution_count": 41,
     "metadata": {},
     "output_type": "execute_result"
    }
   ],
   "source": [
    "data['allURLs'][0]"
   ]
  },
  {
   "cell_type": "markdown",
   "metadata": {},
   "source": [
    "See all datasets on the THREDDS server under your username.  \n",
    "https://opendap.oceanobservatories.org/thredds/catalog/ooi/ooidatateam@gmail.com/catalog.html"
   ]
  },
  {
   "cell_type": "markdown",
   "metadata": {},
   "source": [
    "Check out the Apache directory."
   ]
  },
  {
   "cell_type": "code",
   "execution_count": 45,
   "metadata": {},
   "outputs": [
    {
     "data": {
      "text/plain": [
       "'https://opendap.oceanobservatories.org/async_results/ooidatateam@gmail.com/20180814T230912-GA03FLMA-RIM01-02-CTDMOG040-recovered_inst-ctdmo_ghqr_instrument_recovered'"
      ]
     },
     "execution_count": 45,
     "metadata": {},
     "output_type": "execute_result"
    }
   ],
   "source": [
    "data['allURLs'][1]"
   ]
  },
  {
   "cell_type": "markdown",
   "metadata": {},
   "source": [
    "See all datasets at the Apache server under your username.  \n",
    "https://opendap.oceanobservatories.org/async_results/ooidatateam@gmail.com"
   ]
  },
  {
   "cell_type": "markdown",
   "metadata": {},
   "source": [
    "#### Important\n",
    "The data you have requested will persist at these locations for the next 6 months. If you have the dataset you are looking for, you do not need to request these data again and again.\n",
    "\n",
    "Now that the data is ready and waiting to be used, copy the THREDDS url to your clip board and proceed to Part 2."
   ]
  }
 ],
 "metadata": {
  "kernelspec": {
   "display_name": "ooi",
   "language": "python",
   "name": "ooi"
  },
  "language_info": {
   "codemirror_mode": {
    "name": "ipython",
    "version": 3
   },
   "file_extension": ".py",
   "mimetype": "text/x-python",
   "name": "python",
   "nbconvert_exporter": "python",
   "pygments_lexer": "ipython3",
   "version": "3.6.5"
  }
 },
 "nbformat": 4,
 "nbformat_minor": 2
}
