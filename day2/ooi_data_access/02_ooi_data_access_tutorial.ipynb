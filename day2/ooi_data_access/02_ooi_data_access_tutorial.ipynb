{
 "cells": [
  {
   "cell_type": "markdown",
   "metadata": {
    "slideshow": {
     "slide_type": ""
    }
   },
   "source": [
    "## OOI NetCDF Data Access Part 2\n",
    "\n",
    "You will learn:\n",
    "\n",
    "* how to read in multiple NetCDF data files directly from the THREDDS directory\n",
    "* how to work with NetCDF data using Xarray\n",
    "* how to plot data using Matplotlib\n",
    "* how to create an interactive plot using Bokeh"
   ]
  },
  {
   "cell_type": "markdown",
   "metadata": {},
   "source": [
    "### Reading in multiple data files"
   ]
  },
  {
   "cell_type": "code",
   "execution_count": 12,
   "metadata": {},
   "outputs": [],
   "source": [
    "import re\n",
    "import requests\n",
    "import xarray as xr\n",
    "import pandas as pd\n",
    "import os"
   ]
  },
  {
   "cell_type": "markdown",
   "metadata": {},
   "source": [
    "Parse the thredds server to get a list of all NetCDF files. Each deployment is seperated into a seperate netcdf file."
   ]
  },
  {
   "cell_type": "code",
   "execution_count": 13,
   "metadata": {},
   "outputs": [
    {
     "data": {
      "text/plain": [
       "['https://opendap.oceanobservatories.org/thredds/dodsC/ooi/ooidatateam@gmail.com/20180814T230912-GA03FLMA-RIM01-02-CTDMOG040-recovered_inst-ctdmo_ghqr_instrument_recovered/deployment0003_GA03FLMA-RIM01-02-CTDMOG040-recovered_inst-ctdmo_ghqr_instrument_recovered_20161030T233001-20180109T120001.nc',\n",
       " 'https://opendap.oceanobservatories.org/thredds/dodsC/ooi/ooidatateam@gmail.com/20180814T230912-GA03FLMA-RIM01-02-CTDMOG040-recovered_inst-ctdmo_ghqr_instrument_recovered/deployment0002_GA03FLMA-RIM01-02-CTDMOG040-recovered_inst-ctdmo_ghqr_instrument_recovered_20151125T193001-20161105T184501.nc',\n",
       " 'https://opendap.oceanobservatories.org/thredds/dodsC/ooi/ooidatateam@gmail.com/20180814T230912-GA03FLMA-RIM01-02-CTDMOG040-recovered_inst-ctdmo_ghqr_instrument_recovered/deployment0001_GA03FLMA-RIM01-02-CTDMOG040-recovered_inst-ctdmo_ghqr_instrument_recovered_20150317T194501-20151122T120001.nc']"
      ]
     },
     "execution_count": 13,
     "metadata": {},
     "output_type": "execute_result"
    }
   ],
   "source": [
    "url = 'https://opendap.oceanobservatories.org/thredds/catalog/ooi/ooidatateam@gmail.com/20180814T230912-GA03FLMA-RIM01-02-CTDMOG040-recovered_inst-ctdmo_ghqr_instrument_recovered/catalog.html'\n",
    "tds_url = 'https://opendap.oceanobservatories.org/thredds/dodsC'\n",
    "datasets = requests.get(url).text\n",
    "urls = re.findall(r'href=[\\'\"]?([^\\'\" >]+)', datasets)\n",
    "x = re.findall(r'(ooi/.*?.nc)', datasets)\n",
    "for i in x:\n",
    "    if i.endswith('.nc') == False:\n",
    "        x.remove(i)\n",
    "for i in x:\n",
    "    try:\n",
    "        float(i[-4])\n",
    "    except:\n",
    "        x.remove(i)\n",
    "datasets = [os.path.join(tds_url, i) for i in x]\n",
    "datasets"
   ]
  },
  {
   "cell_type": "markdown",
   "metadata": {},
   "source": [
    "Load all files into a single xarray dataset."
   ]
  },
  {
   "cell_type": "markdown",
   "metadata": {},
   "source": [
    "### Exploring the data in Python using Xarray\n",
    "\n",
    "<b>Tip:</b> To get an overview of what is inside the stream data package, visit http://ooi.visualocean.net/instruments/view/GA03FLMA-RIM01-02-CTDMOG040 and click on the stream link (ctdmo_ghqr_instrument_recovered)."
   ]
  },
  {
   "cell_type": "code",
   "execution_count": 14,
   "metadata": {},
   "outputs": [
    {
     "data": {
      "text/plain": [
       "<xarray.Dataset>\n",
       "Dimensions:                                  (time: 98995)\n",
       "Coordinates:\n",
       "    obs                                      (time) int64 dask.array<shape=(98995,), chunksize=(98995,)>\n",
       "  * time                                     (time) datetime64[ns] 2015-03-17T19:45:01 ...\n",
       "    pressure                                 (time) float64 dask.array<shape=(98995,), chunksize=(98995,)>\n",
       "    lat                                      (time) float64 dask.array<shape=(98995,), chunksize=(98995,)>\n",
       "    lon                                      (time) float64 dask.array<shape=(98995,), chunksize=(98995,)>\n",
       "Data variables:\n",
       "    deployment                               (time) int32 dask.array<shape=(98995,), chunksize=(98995,)>\n",
       "    id                                       (time) |S64 dask.array<shape=(98995,), chunksize=(98995,)>\n",
       "    conductivity                             (time) float64 dask.array<shape=(98995,), chunksize=(98995,)>\n",
       "    ctd_time                                 (time) datetime64[ns] dask.array<shape=(98995,), chunksize=(98995,)>\n",
       "    driver_timestamp                         (time) datetime64[ns] dask.array<shape=(98995,), chunksize=(98995,)>\n",
       "    inductive_id                             (time) float32 dask.array<shape=(98995,), chunksize=(98995,)>\n",
       "    ingestion_timestamp                      (time) datetime64[ns] dask.array<shape=(98995,), chunksize=(98995,)>\n",
       "    internal_timestamp                       (time) datetime64[ns] dask.array<shape=(98995,), chunksize=(98995,)>\n",
       "    port_timestamp                           (time) datetime64[ns] dask.array<shape=(98995,), chunksize=(98995,)>\n",
       "    preferred_timestamp                      (time) object dask.array<shape=(98995,), chunksize=(98995,)>\n",
       "    pressure_temp                            (time) float64 dask.array<shape=(98995,), chunksize=(98995,)>\n",
       "    provenance                               (time) |S64 dask.array<shape=(98995,), chunksize=(98995,)>\n",
       "    serial_number                            (time) object dask.array<shape=(98995,), chunksize=(98995,)>\n",
       "    temperature                              (time) float64 dask.array<shape=(98995,), chunksize=(98995,)>\n",
       "    ctdmo_seawater_pressure                  (time) float64 dask.array<shape=(98995,), chunksize=(98995,)>\n",
       "    ctdmo_seawater_temperature               (time) float64 dask.array<shape=(98995,), chunksize=(98995,)>\n",
       "    ctdmo_seawater_conductivity              (time) float64 dask.array<shape=(98995,), chunksize=(98995,)>\n",
       "    practical_salinity                       (time) float64 dask.array<shape=(98995,), chunksize=(98995,)>\n",
       "    density                                  (time) float64 dask.array<shape=(98995,), chunksize=(98995,)>\n",
       "    ctdmo_seawater_pressure_qc_executed      (time) float32 dask.array<shape=(98995,), chunksize=(98995,)>\n",
       "    ctdmo_seawater_pressure_qc_results       (time) float32 dask.array<shape=(98995,), chunksize=(98995,)>\n",
       "    ctdmo_seawater_temperature_qc_executed   (time) float32 dask.array<shape=(98995,), chunksize=(98995,)>\n",
       "    ctdmo_seawater_temperature_qc_results    (time) float32 dask.array<shape=(98995,), chunksize=(98995,)>\n",
       "    ctdmo_seawater_conductivity_qc_executed  (time) float32 dask.array<shape=(98995,), chunksize=(98995,)>\n",
       "    ctdmo_seawater_conductivity_qc_results   (time) float32 dask.array<shape=(98995,), chunksize=(98995,)>\n",
       "    density_qc_executed                      (time) float32 dask.array<shape=(98995,), chunksize=(98995,)>\n",
       "    density_qc_results                       (time) float32 dask.array<shape=(98995,), chunksize=(98995,)>\n",
       "    practical_salinity_qc_executed           (time) float32 dask.array<shape=(98995,), chunksize=(98995,)>\n",
       "    practical_salinity_qc_results            (time) float32 dask.array<shape=(98995,), chunksize=(98995,)>\n",
       "Attributes:\n",
       "    _NCProperties:                      version=1|netcdflibversion=4.4.1.1|hd...\n",
       "    node:                               RIM01\n",
       "    comment:                            \n",
       "    publisher_email:                    \n",
       "    sourceUrl:                          http://oceanobservatories.org/\n",
       "    collection_method:                  recovered_inst\n",
       "    stream:                             ctdmo_ghqr_instrument_recovered\n",
       "    featureType:                        point\n",
       "    creator_email:                      \n",
       "    publisher_name:                     Ocean Observatories Initiative\n",
       "    date_modified:                      2018-08-14T23:12:08.102224\n",
       "    keywords:                           \n",
       "    cdm_data_type:                      Point\n",
       "    references:                         More information can be found at http...\n",
       "    Metadata_Conventions:               Unidata Dataset Discovery v1.0\n",
       "    date_created:                       2018-08-14T23:12:08.102222\n",
       "    id:                                 GA03FLMA-RIM01-02-CTDMOG040-recovered...\n",
       "    requestUUID:                        11c1cd7d-5411-4048-b20e-35127be96c90\n",
       "    contributor_role:                   \n",
       "    summary:                            Dataset Generated by Stream Engine fr...\n",
       "    keywords_vocabulary:                \n",
       "    institution:                        Ocean Observatories Initiative\n",
       "    naming_authority:                   org.oceanobservatories\n",
       "    feature_Type:                       point\n",
       "    infoUrl:                            http://oceanobservatories.org/\n",
       "    license:                            \n",
       "    contributor_name:                   \n",
       "    uuid:                               11c1cd7d-5411-4048-b20e-35127be96c90\n",
       "    creator_name:                       Ocean Observatories Initiative\n",
       "    title:                              Data produced by Stream Engine versio...\n",
       "    sensor:                             02-CTDMOG040\n",
       "    standard_name_vocabulary:           NetCDF Climate and Forecast (CF) Meta...\n",
       "    acknowledgement:                    \n",
       "    Conventions:                        CF-1.6\n",
       "    project:                            Ocean Observatories Initiative\n",
       "    source:                             GA03FLMA-RIM01-02-CTDMOG040-recovered...\n",
       "    publisher_url:                      http://oceanobservatories.org/\n",
       "    creator_url:                        http://oceanobservatories.org/\n",
       "    nodc_template_version:              NODC_NetCDF_TimeSeries_Orthogonal_Tem...\n",
       "    subsite:                            GA03FLMA\n",
       "    processing_level:                   L2\n",
       "    history:                            2018-08-14T23:12:08.102186 generated ...\n",
       "    Manufacturer:                       Sea-Bird Electronics\n",
       "    ModelNumber:                        SBE 37-IM\n",
       "    SerialNumber:                       37-11605\n",
       "    Description:                        CTD Mooring (Inductive): CTDMO Series G\n",
       "    FirmwareVersion:                    Not specified.\n",
       "    SoftwareVersion:                    Not specified.\n",
       "    AssetUniqueID:                      CGINS-CTDMOG-11605\n",
       "    Notes:                              Not specified.\n",
       "    Owner:                              Woods Hole Oceanographic Institution\n",
       "    RemoteResources:                    []\n",
       "    ShelfLifeExpirationDate:            Not specified.\n",
       "    Mobile:                             False\n",
       "    AssetManagementRecordLastModified:  2018-08-06T12:32:56.728000\n",
       "    time_coverage_start:                2016-10-30T23:30:01\n",
       "    time_coverage_end:                  2018-01-09T12:00:01\n",
       "    time_coverage_resolution:           P899.98S\n",
       "    geospatial_lat_min:                 -42.49212833\n",
       "    geospatial_lat_max:                 -42.49212833\n",
       "    geospatial_lat_units:               degrees_north\n",
       "    geospatial_lat_resolution:          0.1\n",
       "    geospatial_lon_min:                 -42.88019333\n",
       "    geospatial_lon_max:                 -42.88019333\n",
       "    geospatial_lon_units:               degrees_east\n",
       "    geospatial_lon_resolution:          0.1\n",
       "    geospatial_vertical_units:          meters\n",
       "    geospatial_vertical_resolution:     0.1\n",
       "    geospatial_vertical_positive:       down\n",
       "    DODS.strlen:                        7\n",
       "    DODS.dimName:                       string7\n",
       "    DODS_EXTRA.Unlimited_Dimension:     obs"
      ]
     },
     "execution_count": 14,
     "metadata": {},
     "output_type": "execute_result"
    }
   ],
   "source": [
    "ds = xr.open_mfdataset(datasets)\n",
    "ds = ds.swap_dims({'obs': 'time'})\n",
    "ds = ds.chunk({'time': 100})\n",
    "ds = ds.sortby('time') # data from different deployments can overlap so we want to sort all data by time stamp.\n",
    "ds"
   ]
  },
  {
   "cell_type": "markdown",
   "metadata": {},
   "source": [
    "Examine a variable."
   ]
  },
  {
   "cell_type": "code",
   "execution_count": 27,
   "metadata": {},
   "outputs": [
    {
     "data": {
      "text/plain": [
       "<xarray.DataArray 'ctdmo_seawater_temperature' (time: 98995)>\n",
       "dask.array<shape=(98995,), dtype=float64, chunksize=(98995,)>\n",
       "Coordinates:\n",
       "    obs       (time) int64 dask.array<shape=(98995,), chunksize=(98995,)>\n",
       "  * time      (time) datetime64[ns] 2015-03-17T19:45:01 2015-03-17T20:00:01 ...\n",
       "    pressure  (time) float64 dask.array<shape=(98995,), chunksize=(98995,)>\n",
       "    lat       (time) float64 dask.array<shape=(98995,), chunksize=(98995,)>\n",
       "    lon       (time) float64 dask.array<shape=(98995,), chunksize=(98995,)>\n",
       "Attributes:\n",
       "    comment:                  Seawater temperature near the sensor.\n",
       "    long_name:                Seawater Temperature\n",
       "    precision:                4\n",
       "    data_product_identifier:  TEMPWAT_L1\n",
       "    standard_name:            sea_water_temperature\n",
       "    units:                    ºC\n",
       "    ancillary_variables:      temperature\n",
       "    _ChunkSizes:              10000"
      ]
     },
     "execution_count": 27,
     "metadata": {},
     "output_type": "execute_result"
    }
   ],
   "source": [
    "ds.ctdmo_seawater_temperature"
   ]
  },
  {
   "cell_type": "markdown",
   "metadata": {},
   "source": [
    "Plot a variable."
   ]
  },
  {
   "cell_type": "code",
   "execution_count": 24,
   "metadata": {},
   "outputs": [
    {
     "data": {
      "text/plain": [
       "[<matplotlib.lines.Line2D at 0x32a725518>]"
      ]
     },
     "execution_count": 24,
     "metadata": {},
     "output_type": "execute_result"
    },
    {
     "data": {
      "image/png": "[encoded data removed]",
      "text/plain": [
       "<Figure size 432x288 with 1 Axes>"
      ]
     },
     "metadata": {},
     "output_type": "display_data"
    }
   ],
   "source": [
    "ds.ctdmo_seawater_temperature.plot()"
   ]
  },
  {
   "cell_type": "markdown",
   "metadata": {},
   "source": [
    "### Plotting the data using Matplotlib"
   ]
  },
  {
   "cell_type": "markdown",
   "metadata": {},
   "source": [
    "Making nicer plots with matplotlib, still working under the hood of xarray."
   ]
  },
  {
   "cell_type": "code",
   "execution_count": 6,
   "metadata": {},
   "outputs": [],
   "source": [
    "import matplotlib.pyplot as plt"
   ]
  },
  {
   "cell_type": "code",
   "execution_count": 7,
   "metadata": {},
   "outputs": [
    {
     "data": {
      "image/png": "[encoded data removed]",
      "text/plain": [
       "<Figure size 1152x432 with 1 Axes>"
      ]
     },
     "metadata": {},
     "output_type": "display_data"
    }
   ],
   "source": [
    "fig, ax = plt.subplots(1)\n",
    "fig.set_size_inches(16, 6)\n",
    "\n",
    "ds['ctdmo_seawater_pressure'].plot(linestyle = 'None', \n",
    "                                   marker='.', \n",
    "                                   markersize=1,\n",
    "                                   ax=ax)\n",
    "\n",
    "ax.invert_yaxis()\n",
    "ax.grid()\n",
    "\n",
    "plt.title('Global Argentine Basin Flanking Subsurface Mooring A Mooring Riser CTD (30 m)')\n",
    "plt.ylabel('Pressure (dbar)')\n",
    "plt.xlabel('Time \\n Deployments 1 - 3')\n",
    "plt.show()"
   ]
  },
  {
   "cell_type": "markdown",
   "metadata": {},
   "source": [
    "This CTD is supposed to be stationary at around 30 m depth in the water column, but violent storms in the southern himisphere can draw the CTD mooring chain down by hundreds of meters. More information about the Flanking Subsurface Mooring A can be found [here](http://oceanobservatories.org/site/ga03flma/)."
   ]
  },
  {
   "cell_type": "markdown",
   "metadata": {},
   "source": [
    "### Creating interactive plots with Bokeh"
   ]
  },
  {
   "cell_type": "code",
   "execution_count": 9,
   "metadata": {},
   "outputs": [],
   "source": [
    "from bokeh.plotting import figure, output_file, reset_output, show, ColumnDataSource, save\n",
    "from bokeh.layouts import column\n",
    "from bokeh.models import BoxAnnotation\n",
    "from bokeh.io import output_notebook"
   ]
  },
  {
   "cell_type": "code",
   "execution_count": null,
   "metadata": {},
   "outputs": [],
   "source": [
    "source = ColumnDataSource(\n",
    "    data=dict(\n",
    "        x=list(ds.time.values),\n",
    "        y=list((ds.ctdmo_seawater_pressure.values*-1))\n",
    "    )\n",
    ")\n",
    "\n",
    "s = figure(width=950,\n",
    "           height=500,\n",
    "           title='Global Argentine Basin Flanking Subsurface Mooring A Mooring Riser CTD (30 m)',\n",
    "           x_axis_label='Time (GMT)',\n",
    "           y_axis_label='Pressure (dbar)',\n",
    "           x_axis_type='datetime')\n",
    "\n",
    "s.line('x', 'y', line_width=3, source=source)\n",
    "s.circle('x', 'y', fill_color='white', size=4, source=source)\n",
    "\n",
    "output_notebook()\n",
    "show(s)\n",
    "\n",
    "# save the plot as a sharable interactive html file.\n",
    "output_file(os.getcwd())\n",
    "save(s, filename='pressure.html')"
   ]
  }
 ],
 "metadata": {
  "kernelspec": {
   "display_name": "ooi",
   "language": "python",
   "name": "ooi"
  },
  "language_info": {
   "codemirror_mode": {
    "name": "ipython",
    "version": 3
   },
   "file_extension": ".py",
   "mimetype": "text/x-python",
   "name": "python",
   "nbconvert_exporter": "python",
   "pygments_lexer": "ipython3",
   "version": "3.6.5"
  }
 },
 "nbformat": 4,
 "nbformat_minor": 2
}
